{
  "nbformat": 4,
  "nbformat_minor": 0,
  "metadata": {
    "colab": {
      "provenance": [],
      "authorship_tag": "ABX9TyNaHR3SprjNEhL6i//4/N/M",
      "include_colab_link": true
    },
    "kernelspec": {
      "name": "python3",
      "display_name": "Python 3"
    },
    "language_info": {
      "name": "python"
    }
  },
  "cells": [
    {
      "cell_type": "markdown",
      "metadata": {
        "id": "view-in-github",
        "colab_type": "text"
      },
      "source": [
        "<a href=\"https://colab.research.google.com/github/jackiewestman/REU-planets-bootcamp/blob/main/325_Class_Notes.ipynb\" target=\"_parent\"><img src=\"https://colab.research.google.com/assets/colab-badge.svg\" alt=\"Open In Colab\"/></a>"
      ]
    },
    {
      "cell_type": "markdown",
      "source": [
        "#Tuesday, 8/25"
      ],
      "metadata": {
        "id": "Oa1swNIJv19j"
      }
    },
    {
      "cell_type": "code",
      "source": [
        "print (\"hello world\")\n",
        "#this is a comment\n",
        "'''this is a multi-line\n",
        "comment'''\n",
        "print (\"Yay for Scientific Computing!\")\n",
        "print (3e8)"
      ],
      "metadata": {
        "colab": {
          "base_uri": "https://localhost:8080/"
        },
        "id": "ZwbAOapaupvn",
        "outputId": "8d0ba34e-e0a0-4c07-d675-4fa5453b7076"
      },
      "execution_count": 1,
      "outputs": [
        {
          "output_type": "stream",
          "name": "stdout",
          "text": [
            "hello world\n",
            "Yay for Scientific Computing!\n",
            "300000000.0\n"
          ]
        }
      ]
    },
    {
      "cell_type": "markdown",
      "source": [
        "#Thursday, 8/27"
      ],
      "metadata": {
        "id": "yyBPREkJwN3Q"
      }
    },
    {
      "cell_type": "code",
      "source": [
        "list = [2, 3, 4]\n",
        "print (list[0])\n",
        "\n",
        "list_2 = [\"this\", \"is\", \"three\"]\n",
        "print (list_2[1])\n",
        "print (list_2[-1])"
      ],
      "metadata": {
        "colab": {
          "base_uri": "https://localhost:8080/"
        },
        "id": "mguAeYhz4dW3",
        "outputId": "4b487662-b685-4312-fcd6-b3dda8c38da6"
      },
      "execution_count": 2,
      "outputs": [
        {
          "output_type": "stream",
          "name": "stdout",
          "text": [
            "2\n",
            "is\n",
            "three\n"
          ]
        }
      ]
    },
    {
      "cell_type": "code",
      "source": [
        "##Dictionaries: keys are first part of pair, values are second \n",
        "cars = {\"Mazda\":\"Miata\", \"Subaru\":\"Impreza\", \"Honda\":\"Prelude\"}\n",
        "print (cars[\"Mazda\"])"
      ],
      "metadata": {
        "colab": {
          "base_uri": "https://localhost:8080/"
        },
        "id": "gqLHc2N88AaH",
        "outputId": "66756279-2549-45a3-bda5-b5c68017144c"
      },
      "execution_count": null,
      "outputs": [
        {
          "output_type": "stream",
          "name": "stdout",
          "text": [
            "Miata\n"
          ]
        }
      ]
    },
    {
      "cell_type": "code",
      "source": [
        "##Tuples are like lists, but are not able to be changed over time. They use () rather than [] \n",
        "#list elements can be changed later on \n",
        "numbers = (1, 2, 3)\n",
        "print (numbers[0])"
      ],
      "metadata": {
        "colab": {
          "base_uri": "https://localhost:8080/"
        },
        "id": "1_GfXm2e-n4N",
        "outputId": "39745603-7426-41e5-9966-ce2589cb4443"
      },
      "execution_count": null,
      "outputs": [
        {
          "output_type": "stream",
          "name": "stdout",
          "text": [
            "1\n"
          ]
        }
      ]
    },
    {
      "cell_type": "code",
      "source": [
        "def square (number):\n",
        "  squared = number**2\n",
        "  return squared\n",
        "\n",
        "square(10)"
      ],
      "metadata": {
        "id": "qMfRN5RhAboy",
        "colab": {
          "base_uri": "https://localhost:8080/"
        },
        "outputId": "4cb4b4e0-7bf3-47e5-d2f9-c7ce16c4d039"
      },
      "execution_count": null,
      "outputs": [
        {
          "output_type": "execute_result",
          "data": {
            "text/plain": [
              "100"
            ]
          },
          "metadata": {},
          "execution_count": 6
        }
      ]
    },
    {
      "cell_type": "code",
      "source": [
        "##Write a for-loop with an if-else statement\n",
        "\n",
        "numbers = (1, -2, 3, -4, 5, -6, 7, -8, 9, -10)\n",
        "for mult in numbers:\n",
        "  if mult > 0:\n",
        "    print ('Positive')"
      ],
      "metadata": {
        "colab": {
          "base_uri": "https://localhost:8080/"
        },
        "id": "o-Zkt_P7Cv_u",
        "outputId": "9b2c28ca-7b1e-4d72-9643-60ba434c900c"
      },
      "execution_count": null,
      "outputs": [
        {
          "output_type": "stream",
          "name": "stdout",
          "text": [
            "Positive\n",
            "Positive\n",
            "Positive\n",
            "Positive\n",
            "Positive\n"
          ]
        }
      ]
    },
    {
      "cell_type": "markdown",
      "source": [
        "#Tuesday, 8/30"
      ],
      "metadata": {
        "id": "AsUqg3T0lN3x"
      }
    },
    {
      "cell_type": "code",
      "source": [
        "def f(x):\n",
        "  return x**(2/3)\n",
        "\n",
        "f(2)"
      ],
      "metadata": {
        "colab": {
          "base_uri": "https://localhost:8080/"
        },
        "id": "flemvs7tlQfk",
        "outputId": "0f286ab4-95b8-4fbb-dded-180a2f86b138"
      },
      "execution_count": null,
      "outputs": [
        {
          "output_type": "execute_result",
          "data": {
            "text/plain": [
              "1.5874010519681994"
            ]
          },
          "metadata": {},
          "execution_count": 8
        }
      ]
    },
    {
      "cell_type": "code",
      "source": [],
      "metadata": {
        "id": "jp9oW2WHw2gm"
      },
      "execution_count": null,
      "outputs": []
    },
    {
      "cell_type": "markdown",
      "source": [
        "\n",
        "> Array example\n",
        "\n"
      ],
      "metadata": {
        "id": "AmxhgSTct97o"
      }
    },
    {
      "cell_type": "code",
      "source": [
        "import numpy as np\n",
        "\n",
        "x_arr = np.array([1, 2, 3]) #creates a list within the array\n",
        "print (x_arr[0]) #calls first element\n",
        "print ((x_arr)**2) #square of each element\n",
        "print (np.sum(x_arr)) #sum of all elements\n",
        "print (np.sum(x_arr**2))  #sum of the square of all elements "
      ],
      "metadata": {
        "colab": {
          "base_uri": "https://localhost:8080/"
        },
        "id": "LWyh-XlApi_y",
        "outputId": "5defbea0-4aeb-4886-ce10-f6f49a00776d"
      },
      "execution_count": null,
      "outputs": [
        {
          "output_type": "stream",
          "name": "stdout",
          "text": [
            "1\n",
            "[1 4 9]\n",
            "6\n",
            "14\n"
          ]
        }
      ]
    },
    {
      "cell_type": "markdown",
      "source": [
        "For arrays, it must be written as ([ ]) !!!!"
      ],
      "metadata": {
        "id": "eqNHic91xgd9"
      }
    },
    {
      "cell_type": "markdown",
      "source": [
        "\n",
        "> Arange & linspace function *info*\n",
        "\n",
        "\n"
      ],
      "metadata": {
        "id": "5ASHGdEeuBZL"
      }
    },
    {
      "cell_type": "code",
      "source": [
        "#arange mantra: (start, end, step) The end is EXCLUDED\n",
        "'''remember that in arange, it does not include the last number. Thus, if it's \n",
        "0.6 it will not be included, but 0.7 would include 0.6. It it up to but NOT including'''\n",
        "\n",
        "np.arange (1, 101, 2) #begins with 0.1, counts up by 0.1 until it reaches 0.6 "
      ],
      "metadata": {
        "colab": {
          "base_uri": "https://localhost:8080/"
        },
        "id": "ilub56wlsGZB",
        "outputId": "d41461d6-8c12-4ac4-b529-8e00e4f93398"
      },
      "execution_count": null,
      "outputs": [
        {
          "output_type": "execute_result",
          "data": {
            "text/plain": [
              "array([ 1,  3,  5,  7,  9, 11, 13, 15, 17, 19, 21, 23, 25, 27, 29, 31, 33,\n",
              "       35, 37, 39, 41, 43, 45, 47, 49, 51, 53, 55, 57, 59, 61, 63, 65, 67,\n",
              "       69, 71, 73, 75, 77, 79, 81, 83, 85, 87, 89, 91, 93, 95, 97, 99])"
            ]
          },
          "metadata": {},
          "execution_count": 10
        }
      ]
    },
    {
      "cell_type": "code",
      "source": [
        "#Generating an array with np.linspace() Mantra: (start, end, number) The end is INCLUDED\n",
        "'''Using linspace means that the end is included. It is useful if we know the \n",
        "number of points that we need; aka, we need 10 points from the given range of numbers'''\n",
        "\n",
        "np.linspace (0.1, 0.5, 10) \n"
      ],
      "metadata": {
        "colab": {
          "base_uri": "https://localhost:8080/"
        },
        "id": "uq1g4CHFtJPq",
        "outputId": "45b15e06-b3ae-4688-db1b-a38c68af8850"
      },
      "execution_count": null,
      "outputs": [
        {
          "output_type": "execute_result",
          "data": {
            "text/plain": [
              "array([0.1       , 0.14444444, 0.18888889, 0.23333333, 0.27777778,\n",
              "       0.32222222, 0.36666667, 0.41111111, 0.45555556, 0.5       ])"
            ]
          },
          "metadata": {},
          "execution_count": 11
        }
      ]
    },
    {
      "cell_type": "code",
      "source": [
        "print ('Whiteboard example #1:', np.arange(0.3, 1.2, 0.2))\n",
        "print ('Whiteboard example #2:', np.linspace(0.3, 1.1, 5))"
      ],
      "metadata": {
        "colab": {
          "base_uri": "https://localhost:8080/"
        },
        "id": "wnu8kk3kvPkv",
        "outputId": "310cea72-5e77-4b2e-d1ac-09497f45c4c5"
      },
      "execution_count": null,
      "outputs": [
        {
          "output_type": "stream",
          "name": "stdout",
          "text": [
            "Whiteboard example #1: [0.3 0.5 0.7 0.9 1.1]\n",
            "Whiteboard example #2: [0.3 0.5 0.7 0.9 1.1]\n"
          ]
        }
      ]
    },
    {
      "cell_type": "markdown",
      "source": [
        "Plots"
      ],
      "metadata": {
        "id": "BcdSTyasyCzU"
      }
    },
    {
      "cell_type": "code",
      "source": [
        "import numpy as np\n",
        "import matplotlib.pyplot as plt\n",
        "\n",
        "def f(x):\n",
        "  return x**2\n",
        "\n",
        "x_arr = np.array([0.1, 0.2, 0.3, 0.4, 0.5])\n",
        "y_arr = f(x_arr)\n",
        "plt.plot(x_arr, y_arr)"
      ],
      "metadata": {
        "colab": {
          "base_uri": "https://localhost:8080/",
          "height": 283
        },
        "id": "FRN7lhqNyD_M",
        "outputId": "f1d88f18-d8b3-401f-8922-3e307fe3751f"
      },
      "execution_count": null,
      "outputs": [
        {
          "output_type": "execute_result",
          "data": {
            "text/plain": [
              "[<matplotlib.lines.Line2D at 0x7fd034cadd90>]"
            ]
          },
          "metadata": {},
          "execution_count": 13
        },
        {
          "output_type": "display_data",
          "data": {
            "text/plain": [
              "<Figure size 432x288 with 1 Axes>"
            ],
            "image/png": "[encoded data removed]"
          },
          "metadata": {
            "needs_background": "light"
          }
        }
      ]
    },
    {
      "cell_type": "markdown",
      "source": [
        "#Thursday, 9/1"
      ],
      "metadata": {
        "id": "bVZZuPJF4PFR"
      }
    },
    {
      "cell_type": "markdown",
      "source": [
        "\n",
        "\n",
        "> Review problem\n",
        "\n",
        "\n"
      ],
      "metadata": {
        "id": "UdU4aLFx6FkM"
      }
    },
    {
      "cell_type": "code",
      "source": [
        "##Will be on exam\n",
        "import numpy as np\n",
        "import matplotlib.pyplot as plt\n",
        "\n",
        "def f(x):\n",
        "  return x**(2/3)\n",
        "\n",
        "x_arr = np.arange(0, 10.1, 0.1)\n",
        "y_arr = f(x_arr)\n",
        "\n",
        "plt.plot(x_arr, y_arr)\n",
        "plt.ylabel(\"Y array\")\n",
        "plt.xlabel(\"X array\")\n",
        "plt.title(\"Example Problem #1 9/1\")"
      ],
      "metadata": {
        "colab": {
          "base_uri": "https://localhost:8080/"
        },
        "id": "pqHScSTF4TiF",
        "outputId": "a9397867-5210-4462-b93e-22dc042e4e57"
      },
      "execution_count": null,
      "outputs": [
        {
          "output_type": "execute_result",
          "data": {
            "text/plain": [
              "Text(0.5, 1.0, 'Example Problem #1 9/1')"
            ]
          },
          "metadata": {},
          "execution_count": 14
        },
        {
          "output_type": "display_data",
          "data": {
            "text/plain": [
              "<Figure size 432x288 with 1 Axes>"
            ],
            "image/png": "[encoded data removed]"
          },
          "metadata": {
            "needs_background": "light"
          }
        }
      ]
    },
    {
      "cell_type": "markdown",
      "source": [
        "**Array filtering**\n",
        "\n",
        "\n",
        "\n",
        "> We want to find all the states within population > 5 million.\n",
        "\n",
        "**min and max**\n",
        "\n",
        "> We want to know the state that has the largest or lowest population.\n",
        "\n",
        "**Array sorting**\n",
        "\n",
        "> We want to sort the states by population (high to low)\n",
        "\n"
      ],
      "metadata": {
        "id": "6wbV8biG6K2e"
      }
    },
    {
      "cell_type": "code",
      "source": [
        "import numpy as np\n",
        "x_arr = np.array([7, 8, 9, 10])\n",
        "filter_arr = (x_arr < 9)\n",
        "print (filter_arr)\n",
        "\n",
        "x_arr_filtered = x_arr[filter_arr]\n",
        "print(x_arr_filtered)"
      ],
      "metadata": {
        "colab": {
          "base_uri": "https://localhost:8080/"
        },
        "id": "W5kbKOP36QyT",
        "outputId": "a428578a-196a-4a3a-c421-d8058521f071"
      },
      "execution_count": null,
      "outputs": [
        {
          "output_type": "stream",
          "name": "stdout",
          "text": [
            "[ True  True False False]\n",
            "[7 8]\n"
          ]
        }
      ]
    },
    {
      "cell_type": "code",
      "source": [
        "x_arr = np.array([35, 46, 43, 10, 23, 58, 60])\n",
        "name_arr = np.array(['Abby', 'Ernie', 'Elmo', 'Oscar', 'Bert', 'Grover', 'Big Bird'])\n",
        "filter_arr = (x_arr > 42)\n",
        "print (filter_arr)\n",
        "\n",
        "filter_even_arr = (x_arr %2 == 0)\n",
        "print (x_arr[filter_even_arr]) #pulls only true statements and then assigns the original number from array\n",
        "\n",
        "print ('Heights greater than 42:', x_arr[filter_arr])\n",
        "print (\"Name of the characters with heights greater than 42:\", name_arr[filter_arr])"
      ],
      "metadata": {
        "colab": {
          "base_uri": "https://localhost:8080/"
        },
        "id": "YsxG6Bbb8hH_",
        "outputId": "0bf7a86a-5f76-4f99-d444-3e8cf9e21c28"
      },
      "execution_count": null,
      "outputs": [
        {
          "output_type": "stream",
          "name": "stdout",
          "text": [
            "[False  True  True False False  True  True]\n",
            "[46 10 58 60]\n",
            "Heights greater than 42: [46 43 58 60]\n",
            "Name of the characters with heights greater than 42: ['Ernie' 'Elmo' 'Grover' 'Big Bird']\n"
          ]
        }
      ]
    },
    {
      "cell_type": "markdown",
      "source": [
        ">Filtering two arrays of the same length\n",
        ">> See above and below \n",
        ">To return answers that have the literal string, int, etc. you use filtering of two arrays. You take the original array on the outside (x_arr), (name_arr), and then pull from the filtered array [filter_arr] to return results.\n",
        "Thus: x_arr[filter_arr]      \n",
        "      name_arr[filter_arr]\n"
      ],
      "metadata": {
        "id": "mWX-koFfAkDc"
      }
    },
    {
      "cell_type": "code",
      "source": [
        "x_arr = np.array([7, 8, 9, 10]) #think of these are coorisponding ages\n",
        "name_arr = np.array(['Alice', 'Bob', 'Carol', 'Dan'])\n",
        "filter_arr = (x_arr < 9)\n",
        "print(filter_arr)\n",
        "\n",
        "x_arr_filtered = x_arr[filter_arr]\n",
        "print (x_arr_filtered)\n",
        "name_arr_filtered = name_arr[filter_arr]\n",
        "print (name_arr_filtered)"
      ],
      "metadata": {
        "colab": {
          "base_uri": "https://localhost:8080/"
        },
        "id": "p7QF85Cy9Mqi",
        "outputId": "d38eaa8a-2267-4eff-99fe-9a4e58933a4b"
      },
      "execution_count": null,
      "outputs": [
        {
          "output_type": "stream",
          "name": "stdout",
          "text": [
            "[ True  True False False]\n",
            "[7 8]\n",
            "['Alice' 'Bob']\n"
          ]
        }
      ]
    },
    {
      "cell_type": "markdown",
      "source": [
        "#Finding max and min of arrays"
      ],
      "metadata": {
        "id": "U9kyZyiUDhOH"
      }
    },
    {
      "cell_type": "code",
      "source": [
        "x_arr = np.array([7, 8, 9, 10])\n",
        "name_arr = np.array(['Alice', 'Bob', 'Carol', 'Dan'])\n",
        "\n",
        "print(np.amax(x_arr)) # 10\n",
        "index_max = np.argmax(x_arr) #Represents position of max in array\n",
        "print(index_max) \n",
        "print(name_arr[index_max]) "
      ],
      "metadata": {
        "colab": {
          "base_uri": "https://localhost:8080/"
        },
        "id": "1WPpfDvhAvSX",
        "outputId": "07c04c39-8a67-4438-bf7d-ac7f89bf1228"
      },
      "execution_count": null,
      "outputs": [
        {
          "output_type": "stream",
          "name": "stdout",
          "text": [
            "10\n",
            "3\n",
            "Dan\n"
          ]
        }
      ]
    },
    {
      "cell_type": "code",
      "source": [
        "x_arr = np.array([35, 46, 43, 10, 23, 58, 60])\n",
        "name_arr = np.array(['Abby', 'Ernie', 'Elmo', 'Oscar', 'Bert', 'Grover', 'Big Bird'])\n",
        "\n",
        "index_max = np.argmax(x_arr) #position of max in array \n",
        "print (name_arr[index_max])  #uses the position from the x_arr to return the name from the second array\n",
        "\n",
        "index_min = np.argmin(x_arr) #position of min in array\n",
        "print (name_arr[index_min])  #uses the position from the x_arr to return the name that matches "
      ],
      "metadata": {
        "colab": {
          "base_uri": "https://localhost:8080/"
        },
        "id": "cMfPrkMnDuMZ",
        "outputId": "5b836d2f-9dee-444f-a9b1-9c8b41c9c494"
      },
      "execution_count": null,
      "outputs": [
        {
          "output_type": "stream",
          "name": "stdout",
          "text": [
            "Big Bird\n",
            "Oscar\n"
          ]
        }
      ]
    },
    {
      "cell_type": "markdown",
      "source": [
        "#Sorting and argsort"
      ],
      "metadata": {
        "id": "H8Uzav2EF_ft"
      }
    },
    {
      "cell_type": "code",
      "source": [
        "import numpy as np\n",
        "x_arr = np.array([1.2, 1.1, 1.3])\n",
        "print(np.sort(x_arr))\n",
        "\n",
        "index_sort = np.argsort(x_arr) #tells you index (location) of first smallest, second smallest, etc. \n",
        "print(index_sort)\n",
        "\n",
        "print(x_arr[index_sort]) \n"
      ],
      "metadata": {
        "colab": {
          "base_uri": "https://localhost:8080/"
        },
        "id": "IBCKnuYrEaUj",
        "outputId": "ac9ed063-cd95-4422-f254-fab150f21bd0"
      },
      "execution_count": null,
      "outputs": [
        {
          "output_type": "stream",
          "name": "stdout",
          "text": [
            "[1.1 1.2 1.3]\n",
            "[1 0 2]\n",
            "[1.1 1.2 1.3]\n"
          ]
        }
      ]
    },
    {
      "cell_type": "code",
      "source": [
        "name_arr = np.array(['Abby', 'Ernie', 'Elmo', 'Oscar', 'Bert', 'Grover', 'Big Bird'])\n",
        "height_arr = np.array([35, 46, 43, 10, 23, 58, 60])\n",
        "\n",
        "short_to_tall = np.argsort(height_arr)\n",
        "print (name_arr[short_to_tall])\n",
        "\n",
        "tall_to_short = short_to_tall[::-1]\n",
        "print (name_arr[tall_to_short])\n"
      ],
      "metadata": {
        "colab": {
          "base_uri": "https://localhost:8080/"
        },
        "id": "evr8pm83GK_7",
        "outputId": "b7ac04b9-4b53-4606-8591-14187faa8bcb"
      },
      "execution_count": null,
      "outputs": [
        {
          "output_type": "stream",
          "name": "stdout",
          "text": [
            "['Oscar' 'Bert' 'Abby' 'Elmo' 'Ernie' 'Grover' 'Big Bird']\n",
            "['Big Bird' 'Grover' 'Ernie' 'Elmo' 'Abby' 'Bert' 'Oscar']\n"
          ]
        }
      ]
    },
    {
      "cell_type": "markdown",
      "source": [
        "#Tuesday, 9/6"
      ],
      "metadata": {
        "id": "Vi1RfibVo08T"
      }
    },
    {
      "cell_type": "code",
      "source": [
        "#warm up problem\n",
        "\n",
        "import numpy as np\n",
        "import matplotlib.pyplot as plt\n",
        "\n",
        "x_arr = np.arange(0.1, 10.1, 0.1)\n",
        "def f(x):\n",
        "  return 1/(x*(1+x))\n",
        "y_arr = f(x_arr)\n",
        "\n",
        "plot = plt.plot(x_arr, y_arr)\n",
        "plt.show(plot)"
      ],
      "metadata": {
        "colab": {
          "base_uri": "https://localhost:8080/"
        },
        "id": "P9suSHSuG1Uk",
        "outputId": "28c23755-f7ef-4c53-91c1-58bca8395664"
      },
      "execution_count": null,
      "outputs": [
        {
          "output_type": "display_data",
          "data": {
            "text/plain": [
              "<Figure size 432x288 with 1 Axes>"
            ],
            "image/png": "[encoded data removed]"
          },
          "metadata": {
            "needs_background": "light"
          }
        }
      ]
    },
    {
      "cell_type": "code",
      "source": [
        "def f(x):\n",
        "   if x > 0:\n",
        "       return np.exp(-x**2)\n",
        "   else:\n",
        "       return 0\n",
        "#Note: some functions (like this one) only take scalars & don't take arrays.\n",
        "\n",
        "x_arr = np.linspace(-10, 10, 50)\n",
        "y_arr = [] #define an empty array, allows x_arr to run \n",
        "for x in x_arr: #create a for loop to run each value of array through original function (x is element)\n",
        "   y_arr.append(f(x)) #appending is adding values into the empty array \n",
        "y_arr = np.array(y_arr)\n"
      ],
      "metadata": {
        "id": "wNcDLL0op075"
      },
      "execution_count": null,
      "outputs": []
    },
    {
      "cell_type": "code",
      "source": [
        "x_arr = np.arange(-10, 10, 0.1)\n",
        "def f(x):\n",
        "  return 1/(1+x**2)\n",
        "y_arr = f(x_arr)\n",
        "plot_1 = plt.plot(x_arr, y_arr)"
      ],
      "metadata": {
        "colab": {
          "base_uri": "https://localhost:8080/"
        },
        "id": "tH2QZ4uEwiiZ",
        "outputId": "5dbe56af-0d6c-4bda-b4f1-c0171b42282b"
      },
      "execution_count": null,
      "outputs": [
        {
          "output_type": "display_data",
          "data": {
            "text/plain": [
              "<Figure size 432x288 with 1 Axes>"
            ],
            "image/png": "[encoded data removed]"
          },
          "metadata": {
            "needs_background": "light"
          }
        }
      ]
    },
    {
      "cell_type": "code",
      "source": [
        "x_arr = np.linspace(-10, 10, 100)\n",
        "def f(x):\n",
        "  return 1/(1+x**2)\n",
        "\n",
        "y_arr = []\n",
        "for a in x_arr:\n",
        "  y_arr.append(f(a)) #scans through array\n",
        "y_arr = np.array(y_arr)\n",
        "plot_2 = plt.plot(x_arr, y_arr)"
      ],
      "metadata": {
        "colab": {
          "base_uri": "https://localhost:8080/"
        },
        "id": "0wsIrXmmwr91",
        "outputId": "f27611e0-6be7-4faa-ab13-e4b0d8ff85d1"
      },
      "execution_count": null,
      "outputs": [
        {
          "output_type": "display_data",
          "data": {
            "text/plain": [
              "<Figure size 432x288 with 1 Axes>"
            ],
            "image/png": "[encoded data removed]"
          },
          "metadata": {
            "needs_background": "light"
          }
        }
      ]
    },
    {
      "cell_type": "markdown",
      "source": [
        "> Array Indexing and Slicing"
      ],
      "metadata": {
        "id": "o6BebT5x04rE"
      }
    },
    {
      "cell_type": "markdown",
      "source": [
        "Helpful!!!!"
      ],
      "metadata": {
        "id": "vdmXCZFUDd9F"
      }
    },
    {
      "cell_type": "code",
      "source": [
        "fruit_list = [\"apple\", \"banana\", \"cherry\", \"durian\", \"eggfruit\", \"fig\", \"grape\", \"honeydew\"]\n",
        "print(fruit_list[7]) #get element 7\n",
        "print(fruit_list[:7]) #start from 0 and end before 7\n",
        "print(fruit_list[2:]) #start from 2 and all the way to the end\n",
        "print(fruit_list[2:7]) #start from 2 and end before 7\n",
        "print(fruit_list[2:7:2]) #start from 2 and end before 7, with increment of 2\n",
        "print(fruit_list[:]) #prints entire list\n",
        "print(fruit_list[::-1]) #prints entire list backwards\n",
        "#mantra: [start: end: step]"
      ],
      "metadata": {
        "colab": {
          "base_uri": "https://localhost:8080/"
        },
        "id": "zZfXAHmzxVrb",
        "outputId": "109b0b50-d6a2-4b9c-9c1f-f586da421532"
      },
      "execution_count": null,
      "outputs": [
        {
          "output_type": "stream",
          "name": "stdout",
          "text": [
            "honeydew\n",
            "['apple', 'banana', 'cherry', 'durian', 'eggfruit', 'fig', 'grape']\n",
            "['cherry', 'durian', 'eggfruit', 'fig', 'grape', 'honeydew']\n",
            "['cherry', 'durian', 'eggfruit', 'fig', 'grape']\n",
            "['cherry', 'eggfruit', 'grape']\n",
            "['apple', 'banana', 'cherry', 'durian', 'eggfruit', 'fig', 'grape', 'honeydew']\n",
            "['honeydew', 'grape', 'fig', 'eggfruit', 'durian', 'cherry', 'banana', 'apple']\n"
          ]
        }
      ]
    },
    {
      "cell_type": "markdown",
      "source": [
        "2D Arrays (Matrices and Data Tables)"
      ],
      "metadata": {
        "id": "Jt8iD5Xq4brQ"
      }
    },
    {
      "cell_type": "code",
      "source": [
        "#Mantra: Row by column\n",
        "arr = np.array([[1,2], [3,4]])\n",
        "print (arr[0,0])\n",
        "print (arr[[0,0], [0,1]])\n",
        "arr[0,:] #gets first row\n",
        "arr[:,0] #gets first column"
      ],
      "metadata": {
        "colab": {
          "base_uri": "https://localhost:8080/"
        },
        "id": "3uZtNOgl3qpU",
        "outputId": "69583cb4-aabf-4b42-a96c-4bc1c81b888d"
      },
      "execution_count": null,
      "outputs": [
        {
          "output_type": "stream",
          "name": "stdout",
          "text": [
            "1\n",
            "[1 2]\n"
          ]
        },
        {
          "output_type": "execute_result",
          "data": {
            "text/plain": [
              "array([1, 3])"
            ]
          },
          "metadata": {},
          "execution_count": 27
        }
      ]
    },
    {
      "cell_type": "markdown",
      "source": [
        "#Thursday, 9/8"
      ],
      "metadata": {
        "id": "4WaO1OnD-C9j"
      }
    },
    {
      "cell_type": "code",
      "source": [
        "#warm up \n",
        "#Print out the students names sorted by their scores, from highest to lowest. \n",
        "#np.sort sorts from low to high \n",
        "import numpy as np\n",
        "sat_scores = np.array([1440, 1256, 1543, 1043, 989, 1412, 1343])\n",
        "students = np.array([\"Elmo\", \"Big Bird\", \"Abby\", \"Bert\", \"Grover\", \"Count von Count\", \"Cookie Monster\"])\n",
        "index_sort = np.argsort(sat_scores)\n",
        "high_to_low = index_sort[::-1]\n",
        "print (students[high_to_low])"
      ],
      "metadata": {
        "colab": {
          "base_uri": "https://localhost:8080/"
        },
        "id": "YNhJ1Ucp5H6f",
        "outputId": "3ede41c8-b974-412c-db44-539dbfb1345a"
      },
      "execution_count": null,
      "outputs": [
        {
          "output_type": "stream",
          "name": "stdout",
          "text": [
            "['Abby' 'Elmo' 'Count von Count' 'Cookie Monster' 'Big Bird' 'Bert'\n",
            " 'Grover']\n"
          ]
        }
      ]
    },
    {
      "cell_type": "markdown",
      "source": [
        ">2D arrays cont."
      ],
      "metadata": {
        "id": "m263TbBjAKkr"
      }
    },
    {
      "cell_type": "code",
      "source": [
        "arr = np.array([[1, 2, 3], [4, 5, 6]])\n",
        "#format is row, column\n",
        "print(arr[0, 0]) #row 0, column 0\n",
        "print(arr[:, 0]) #first column\n",
        "print(arr[1, :]) #second row\n",
        "print(arr[0]) #same as arr[0,:] #first row\n",
        "print (arr[0:1]) #0 cannot exceed 1, thus first row\n",
        "print (np.transpose(arr)) #swaps rows and columns\n",
        "print(np.sum(arr))\n",
        "print(np.sum(arr, axis=0)) #sum column by column, #axis=1 will sum row by row"
      ],
      "metadata": {
        "colab": {
          "base_uri": "https://localhost:8080/"
        },
        "id": "o8S7xbfp9b4p",
        "outputId": "16df3f5e-0b47-4001-c0f3-f76bd08333fd"
      },
      "execution_count": null,
      "outputs": [
        {
          "output_type": "stream",
          "name": "stdout",
          "text": [
            "1\n",
            "[1 4]\n",
            "[4 5 6]\n",
            "[1 2 3]\n",
            "[[1 2 3]]\n",
            "[[1 4]\n",
            " [2 5]\n",
            " [3 6]]\n",
            "21\n",
            "[5 7 9]\n"
          ]
        }
      ]
    },
    {
      "cell_type": "markdown",
      "source": [
        ">Printing scientific notation different ways"
      ],
      "metadata": {
        "id": "O0WIDKi1GGDk"
      }
    },
    {
      "cell_type": "code",
      "source": [
        "import numpy as np\n",
        "# Oldest: %\n",
        "print('%.2f'%(np.pi))\n",
        "\n",
        "# Old: .format\n",
        "print('{:.2f}'.format(np.pi))\n",
        "\n",
        "# New: f-string\n",
        "print(f'{np.pi:.2f}') \n",
        "#Use this one always! f stands for formating "
      ],
      "metadata": {
        "colab": {
          "base_uri": "https://localhost:8080/"
        },
        "id": "qzOz6RKhBOkp",
        "outputId": "01b8dc34-8c33-44d4-b769-f33db0b62059"
      },
      "execution_count": null,
      "outputs": [
        {
          "output_type": "stream",
          "name": "stdout",
          "text": [
            "3.14\n",
            "3.14\n",
            "3.14\n"
          ]
        }
      ]
    },
    {
      "cell_type": "code",
      "source": [
        "import numpy as np\n",
        "#dealing with two or more numbers \n",
        "# Oldest: %\n",
        "print('%.2f %.2f'%(np.pi, np.sqrt(2)))\n",
        "\n",
        "# Old: .format\n",
        "print('{:.2f} {:.2f}'.format(np.pi, np.sqrt(2)))\n",
        "\n",
        "# New: f-string\n",
        "print(f'{np.pi:.2f} {np.sqrt(2):.2f}')"
      ],
      "metadata": {
        "colab": {
          "base_uri": "https://localhost:8080/"
        },
        "id": "FlzaQcDgGOjr",
        "outputId": "552bcdc1-f7d5-4339-9db3-477ce3f52105"
      },
      "execution_count": null,
      "outputs": [
        {
          "output_type": "stream",
          "name": "stdout",
          "text": [
            "3.14 1.41\n",
            "3.14 1.41\n",
            "3.14 1.41\n"
          ]
        }
      ]
    },
    {
      "cell_type": "code",
      "source": [
        "particle = 'electron'\n",
        "mass = 9.10938356e-31\n",
        "print(f\"The {particle} mass is {mass:e} kg.\")"
      ],
      "metadata": {
        "colab": {
          "base_uri": "https://localhost:8080/"
        },
        "id": "O2qOJYW8GnZa",
        "outputId": "934cfb09-822b-403b-d8e0-9ecfdea3cae7"
      },
      "execution_count": null,
      "outputs": [
        {
          "output_type": "stream",
          "name": "stdout",
          "text": [
            "The electron mass is 9.109384e-31 kg.\n"
          ]
        }
      ]
    },
    {
      "cell_type": "code",
      "source": [
        "G = \"Gravitational constant\"\n",
        "value = 6.67430e-11 \n",
        "print (f\"The {G} is {value:.3e}\")"
      ],
      "metadata": {
        "colab": {
          "base_uri": "https://localhost:8080/"
        },
        "id": "3qpRTKMAHRr2",
        "outputId": "35bd2470-f5d0-45b1-eda5-29be93f83226"
      },
      "execution_count": null,
      "outputs": [
        {
          "output_type": "stream",
          "name": "stdout",
          "text": [
            "The Gravitational constant is 6.674e-11\n"
          ]
        }
      ]
    },
    {
      "cell_type": "code",
      "source": [
        "answer = np.sqrt(2)\n",
        "print(f'{answer:.4g}')"
      ],
      "metadata": {
        "colab": {
          "base_uri": "https://localhost:8080/"
        },
        "id": "OoZfMfDrICqK",
        "outputId": "e12065fc-604d-4802-c7d7-266d88afa6a2"
      },
      "execution_count": null,
      "outputs": [
        {
          "output_type": "stream",
          "name": "stdout",
          "text": [
            "1.414\n"
          ]
        }
      ]
    },
    {
      "cell_type": "markdown",
      "source": [
        ">np.linspace() vs np.logspace()\n",
        ">>Numpy linspace returns evenly spaced numbers over a specified interval. Numpy logspace return numbers spaced evenly on a log scale."
      ],
      "metadata": {
        "id": "rftS3Hd3Kork"
      }
    },
    {
      "cell_type": "code",
      "source": [
        "lin_arr = np.linspace(0.1, 1, 10)\n",
        "log_arr = np.logspace(-1, 0, 11) #1e-1, 1e-0.9, 1e-0.8...1e0\n",
        "print (lin_arr)\n",
        "print(log_arr)\n",
        "#both start at 0.1 and end at 1. "
      ],
      "metadata": {
        "colab": {
          "base_uri": "https://localhost:8080/"
        },
        "id": "9zQpYi2IJkf-",
        "outputId": "4845dc0f-4ffd-4e46-976b-3d8d7c928d37"
      },
      "execution_count": null,
      "outputs": [
        {
          "output_type": "stream",
          "name": "stdout",
          "text": [
            "[0.1 0.2 0.3 0.4 0.5 0.6 0.7 0.8 0.9 1. ]\n",
            "[0.1        0.12589254 0.15848932 0.19952623 0.25118864 0.31622777\n",
            " 0.39810717 0.50118723 0.63095734 0.79432823 1.        ]\n"
          ]
        }
      ]
    },
    {
      "cell_type": "code",
      "source": [
        "import matplotlib.pyplot as plt\n",
        "def f(x):\n",
        "  return 1/(x*(1+x**2))\n",
        "\n",
        "x_arr = np.logspace(-3, 1, 100)\n",
        "y_arr = f(x_arr)\n",
        "\n",
        "plt.plot(x_arr, y_arr)\n",
        "plt.xscale('log')\n",
        "plt.yscale('log')"
      ],
      "metadata": {
        "colab": {
          "base_uri": "https://localhost:8080/"
        },
        "id": "tffEJCuOLSIP",
        "outputId": "c0f704a8-4742-4466-e838-565c2216d154"
      },
      "execution_count": null,
      "outputs": [
        {
          "output_type": "display_data",
          "data": {
            "text/plain": [
              "<Figure size 432x288 with 1 Axes>"
            ],
            "image/png": "[encoded data removed]"
          },
          "metadata": {
            "needs_background": "light"
          }
        }
      ]
    },
    {
      "cell_type": "markdown",
      "source": [
        "#Tuesday, 9/13\n",
        "\n",
        ">Exam next Friday, paper-pencil closed book\n",
        ">Find what's wrong with the code\n",
        ">1 page cheat sheet, letter size and single sided (can be typed)\n",
        ">Make sure to understand all lecture slides, labs, and homework problems\n",
        "\n",
        "Slide 61!!"
      ],
      "metadata": {
        "id": "Ss9kq7_RsEnh"
      }
    },
    {
      "cell_type": "code",
      "source": [
        "#Slide 93 for homework help with for loop\n",
        "#Slide 94 for plotting tricks"
      ],
      "metadata": {
        "id": "e4H5wJl_tY9E"
      },
      "execution_count": null,
      "outputs": []
    },
    {
      "cell_type": "markdown",
      "source": [
        ">A log-log plot is useful in practices like the Hertzsprung Russel Diagram. If that data was plotted linearly, it wouldn't show any features. Useful for datasets which spans a wide range. "
      ],
      "metadata": {
        "id": "aS49N8VEykqP"
      }
    },
    {
      "cell_type": "code",
      "source": [
        "import numpy as np\n",
        "import matplotlib.pyplot as plt\n",
        "\n",
        "def f(x):\n",
        "  return 1/(x*(1+(x**2)))\n",
        "\n",
        "x_arr = np.logspace(-3, 1, 100)\n",
        "y_arr = f(x_arr)\n",
        "plt.plot(x_arr, y_arr)\n",
        "plt.xscale('log')\n",
        "plt.yscale('log')"
      ],
      "metadata": {
        "colab": {
          "base_uri": "https://localhost:8080/"
        },
        "id": "5AqZsZ_nw1B_",
        "outputId": "b703ad6f-7c5e-4341-9d5b-0271fe2c9243"
      },
      "execution_count": null,
      "outputs": [
        {
          "output_type": "display_data",
          "data": {
            "text/plain": [
              "<Figure size 432x288 with 1 Axes>"
            ],
            "image/png": "[encoded data removed]"
          },
          "metadata": {
            "needs_background": "light"
          }
        }
      ]
    },
    {
      "cell_type": "code",
      "source": [
        "import matplotlib.pyplot as plt\n",
        "import numpy as np\n",
        "x1 = np.random.rand(1000)\n",
        "plt.hist(x1, label='uniform')"
      ],
      "metadata": {
        "colab": {
          "base_uri": "https://localhost:8080/"
        },
        "id": "Mow6sJMI1Hyl",
        "outputId": "b99ff75e-dc77-48aa-df62-43cc498bac0f"
      },
      "execution_count": null,
      "outputs": [
        {
          "output_type": "execute_result",
          "data": {
            "text/plain": [
              "(array([111., 103., 109.,  92.,  82.,  96.,  85., 109., 105., 108.]),\n",
              " array([0.00112957, 0.10081989, 0.20051021, 0.30020054, 0.39989086,\n",
              "        0.49958118, 0.59927151, 0.69896183, 0.79865216, 0.89834248,\n",
              "        0.9980328 ]),\n",
              " <a list of 10 Patch objects>)"
            ]
          },
          "metadata": {},
          "execution_count": 39
        },
        {
          "output_type": "display_data",
          "data": {
            "text/plain": [
              "<Figure size 432x288 with 1 Axes>"
            ],
            "image/png": "[encoded data removed]"
          },
          "metadata": {
            "needs_background": "light"
          }
        }
      ]
    },
    {
      "cell_type": "code",
      "source": [
        "import matplotlib.pyplot as plt\n",
        "x3 = np.random.rand(1000)\n",
        "plt.hist(x3, label='uniform')"
      ],
      "metadata": {
        "colab": {
          "base_uri": "https://localhost:8080/"
        },
        "id": "zOM4p5Vh27Ui",
        "outputId": "f9f0e379-0a62-4bdb-c040-d3da26040e64"
      },
      "execution_count": null,
      "outputs": [
        {
          "output_type": "execute_result",
          "data": {
            "text/plain": [
              "(array([ 93., 105., 104.,  98.,  92.,  93., 103., 108., 100., 104.]),\n",
              " array([1.40301757e-04, 1.00104513e-01, 2.00068725e-01, 3.00032936e-01,\n",
              "        3.99997147e-01, 4.99961359e-01, 5.99925570e-01, 6.99889782e-01,\n",
              "        7.99853993e-01, 8.99818205e-01, 9.99782416e-01]),\n",
              " <a list of 10 Patch objects>)"
            ]
          },
          "metadata": {},
          "execution_count": 40
        },
        {
          "output_type": "display_data",
          "data": {
            "text/plain": [
              "<Figure size 432x288 with 1 Axes>"
            ],
            "image/png": "[encoded data removed]"
          },
          "metadata": {
            "needs_background": "light"
          }
        }
      ]
    },
    {
      "cell_type": "code",
      "source": [
        "plt.hist(x1, label='uniform')\n",
        "plt.hist(x3, label='uniform', alpha = 0.5)\n",
        "#must import random for it to run correctly"
      ],
      "metadata": {
        "colab": {
          "base_uri": "https://localhost:8080/"
        },
        "id": "i0qOfzN228vd",
        "outputId": "613a6084-cf5a-4e8c-88db-5614ece7f6c5"
      },
      "execution_count": null,
      "outputs": [
        {
          "output_type": "execute_result",
          "data": {
            "text/plain": [
              "(array([ 93., 105., 104.,  98.,  92.,  93., 103., 108., 100., 104.]),\n",
              " array([1.40301757e-04, 1.00104513e-01, 2.00068725e-01, 3.00032936e-01,\n",
              "        3.99997147e-01, 4.99961359e-01, 5.99925570e-01, 6.99889782e-01,\n",
              "        7.99853993e-01, 8.99818205e-01, 9.99782416e-01]),\n",
              " <a list of 10 Patch objects>)"
            ]
          },
          "metadata": {},
          "execution_count": 41
        },
        {
          "output_type": "display_data",
          "data": {
            "text/plain": [
              "<Figure size 432x288 with 1 Axes>"
            ],
            "image/png": "[encoded data removed]"
          },
          "metadata": {
            "needs_background": "light"
          }
        }
      ]
    },
    {
      "cell_type": "code",
      "source": [
        "mean = 0\n",
        "standard_deviation = 0.1\n",
        "x2 = np.random.normal(loc=mean, scale=standard_deviation, size=(1000))\n",
        "plt.hist(x2,label = 'Bell Curve', color = 'lime')\n",
        "plt.hist(x1, label='Flatland', alpha = 0.4, color = 'rebeccapurple')\n",
        "plt.legend()"
      ],
      "metadata": {
        "colab": {
          "base_uri": "https://localhost:8080/"
        },
        "id": "V45jFO_C3DTg",
        "outputId": "3440e8e1-13f4-468c-8c7f-673556177a53"
      },
      "execution_count": null,
      "outputs": [
        {
          "output_type": "execute_result",
          "data": {
            "text/plain": [
              "<matplotlib.legend.Legend at 0x7fd030214f50>"
            ]
          },
          "metadata": {},
          "execution_count": 42
        },
        {
          "output_type": "display_data",
          "data": {
            "text/plain": [
              "<Figure size 432x288 with 1 Axes>"
            ],
            "image/png": "[encoded data removed]"
          },
          "metadata": {
            "needs_background": "light"
          }
        }
      ]
    },
    {
      "cell_type": "code",
      "source": [
        "import numpy as np\n",
        "import matplotlib.pyplot as plt\n",
        "x_arr = np.arange(10)\n",
        "y_arr = 2.5 * np.sin(x_arr / 20 * np.pi)\n",
        "yerr_arr = np.random.rand(10)\n",
        "plt.errorbar(x_arr, y_arr, yerr_arr, marker='o')\n",
        "plt.xlabel('x')\n",
        "plt.ylabel('y')\n",
        "plt.show()"
      ],
      "metadata": {
        "colab": {
          "base_uri": "https://localhost:8080/"
        },
        "id": "09R5kzY43q-u",
        "outputId": "2fcceec3-e752-4d8d-af40-c02fccb82deb"
      },
      "execution_count": null,
      "outputs": [
        {
          "output_type": "display_data",
          "data": {
            "text/plain": [
              "<Figure size 432x288 with 1 Axes>"
            ],
            "image/png": "[encoded data removed]"
          },
          "metadata": {
            "needs_background": "light"
          }
        }
      ]
    },
    {
      "cell_type": "code",
      "source": [
        "import numpy as np\n",
        "import matplotlib.pyplot as plt\n",
        "theta = np.linspace(0, 2*np.pi, 10000)\n",
        "x = np.cos(theta)\n",
        "y = np.sin(theta)\n",
        "plt.plot(x, y, label='a circle', linewidth=3, alpha=0.7)\n",
        "plt.scatter(x, y, color='orange', marker='o', label='scatter plot')\n",
        "plt.legend()\n",
        "plt.axhline(1, color='k')\n",
        "plt.axvline(1, color='c')\n",
        "plt.xlim(-2, 2)\n",
        "plt.ylim(-2, 2)"
      ],
      "metadata": {
        "colab": {
          "base_uri": "https://localhost:8080/"
        },
        "id": "E7OspUz1471A",
        "outputId": "d2cb8c49-9265-48cc-bf23-96cff61f9d2e"
      },
      "execution_count": null,
      "outputs": [
        {
          "output_type": "execute_result",
          "data": {
            "text/plain": [
              "(-2.0, 2.0)"
            ]
          },
          "metadata": {},
          "execution_count": 44
        },
        {
          "output_type": "display_data",
          "data": {
            "text/plain": [
              "<Figure size 432x288 with 1 Axes>"
            ],
            "image/png": "[encoded data removed]"
          },
          "metadata": {
            "needs_background": "light"
          }
        }
      ]
    },
    {
      "cell_type": "markdown",
      "source": [
        "#Thursday, 9/15"
      ],
      "metadata": {
        "id": "HdMwYL9y_Erd"
      }
    },
    {
      "cell_type": "code",
      "source": [
        "import numpy as np\n",
        "import matplotlib.pyplot as plt\n",
        "from numpy.polynomial.polynomial import polyfit\n",
        "\n",
        "x = np.array([ 2,  3,  4,  5,  6,  7,  7,  8,  9,  9, 11, 12, 17])\n",
        "y = np.array([111, 103,  94,  99,  86,  86,  88,  87,  87,  85,  78,  77,  86])\n",
        "plt.scatter(x, y)\n",
        "\n",
        "(a0, a1) = polyfit(x, y, 1)  # y = a0 + a1 *x\n",
        "\n",
        "def fit(x):\n",
        "   return a0 + a1 * x #intercept plus slope times x\n",
        "\n",
        "y_fit = fit(x)\n",
        "plt.plot(x, y_fit)\n",
        "plt.show()\n",
        "\n",
        "'''method 1:\n",
        "from numpy.polynomial.polynomial import polyfit\n",
        "polyfit(x, y, 1)\n",
        "method 2:\n",
        "import numpy as np\n",
        "np.polynomial.polynomial.polyfit(x, y, 1)\n",
        "can import either way'''"
      ],
      "metadata": {
        "colab": {
          "base_uri": "https://localhost:8080/"
        },
        "id": "Ti_if2Xa7FDy",
        "outputId": "90dbea77-b76c-4073-a279-f3e0d361f405"
      },
      "execution_count": null,
      "outputs": [
        {
          "output_type": "display_data",
          "data": {
            "text/plain": [
              "<Figure size 432x288 with 1 Axes>"
            ],
            "image/png": "[encoded data removed]"
          },
          "metadata": {
            "needs_background": "light"
          }
        },
        {
          "output_type": "execute_result",
          "data": {
            "text/plain": [
              "'method 1:\\nfrom numpy.polynomial.polynomial import polyfit\\npolyfit(x, y, 1)\\nmethod 2:\\nimport numpy as np\\nnp.polynomial.polynomial.polyfit(x, y, 1)\\ncan import either way'"
            ],
            "application/vnd.google.colaboratory.intrinsic+json": {
              "type": "string"
            }
          },
          "metadata": {},
          "execution_count": 45
        }
      ]
    },
    {
      "cell_type": "code",
      "source": [
        "import numpy as np\n",
        "import matplotlib.pyplot as plt\n",
        "from numpy.polynomial.polynomial import polyfit\n",
        "\n",
        "x = np.array([ 2,  3,  4,  5,  6,  7,  7,  8,  9,  9, 11, 12, 17])\n",
        "y = np.array([111, 103,  94,  99,  86,  86,  88,  87,  87,  85,  78,  77,  86])\n",
        "err = 0.1 * y\n",
        "(a0, a1) = polyfit(x, y, 1, w=1/err) \n",
        "\n",
        "#make a plot of y vs. x with error bar\n",
        "#including error bar in the linear regression (add w = 1/err inside polyfit)\n",
        "#add the trend line\n",
        "def fit(x):\n",
        "   return a0 + a1 * x #intercept plus slope times x\n",
        "\n",
        "y_fit = fit(x)\n",
        "plt.plot(x, y_fit)\n",
        "plt.errorbar(x, y, err, marker='o')"
      ],
      "metadata": {
        "colab": {
          "base_uri": "https://localhost:8080/"
        },
        "id": "ROcBHBl6_10E",
        "outputId": "3cf0b72c-e329-4bd2-c0c1-6dfa05300a31"
      },
      "execution_count": null,
      "outputs": [
        {
          "output_type": "execute_result",
          "data": {
            "text/plain": [
              "<ErrorbarContainer object of 3 artists>"
            ]
          },
          "metadata": {},
          "execution_count": 46
        },
        {
          "output_type": "display_data",
          "data": {
            "text/plain": [
              "<Figure size 432x288 with 1 Axes>"
            ],
            "image/png": "[encoded data removed]"
          },
          "metadata": {
            "needs_background": "light"
          }
        }
      ]
    },
    {
      "cell_type": "markdown",
      "source": [
        ">Deep copy and shallow copy"
      ],
      "metadata": {
        "id": "LtEbd_osIs39"
      }
    },
    {
      "cell_type": "code",
      "source": [
        "#If you want to create two separate arrays with the same values:\n",
        "\n",
        "# Incorrect:\n",
        "a = np.array(10)\n",
        "b = a  # and b will affect each other\n",
        "\n",
        "# Correct:\n",
        "import copy\n",
        "a = np.array(10)\n",
        "b = copy.deepcopy(a) # a and b won't affect each other\n",
        "\n",
        "a = np.array([81, 82, 83])\n",
        "b = a\n",
        "b[0] = 5\n",
        "print(a)\n",
        "\n",
        "# case 2 (deep copy)\n",
        "a = np.array([81, 82, 83])\n",
        "import copy\n",
        "b = copy.deepcopy(a)\n",
        "b[0] = 5\n",
        "print(a)#"
      ],
      "metadata": {
        "colab": {
          "base_uri": "https://localhost:8080/"
        },
        "id": "9BLkPRBHGipi",
        "outputId": "bc9fd85f-f563-4a56-d126-4511a304cd29"
      },
      "execution_count": null,
      "outputs": [
        {
          "output_type": "stream",
          "name": "stdout",
          "text": [
            "[ 5 82 83]\n",
            "[81 82 83]\n"
          ]
        }
      ]
    },
    {
      "cell_type": "code",
      "source": [
        "# shallow copy\n",
        "a = np.array(10)\n",
        "b = a  # and b will affect each other\n",
        "print(a is b)\n",
        "print(a == b)\n",
        "\n",
        "# deep copy\n",
        "import copy\n",
        "a = np.array(10)\n",
        "b = copy.deepcopy(a) # a and b won't affect each other\n",
        "print(a is b) \n",
        "print(a == b)"
      ],
      "metadata": {
        "colab": {
          "base_uri": "https://localhost:8080/"
        },
        "id": "pEqh1u6aJVV6",
        "outputId": "d41e002f-d91b-449e-8ef3-136cdee9120d"
      },
      "execution_count": null,
      "outputs": [
        {
          "output_type": "stream",
          "name": "stdout",
          "text": [
            "True\n",
            "True\n",
            "False\n",
            "True\n"
          ]
        }
      ]
    },
    {
      "cell_type": "code",
      "source": [
        "print(f'{0.1:.17f}')\n",
        "#not a bug, just the nature of a computer\n",
        "#however, the 17th digit is a numerical error due to the nature of the code\n",
        "\n",
        "print(1e309) #limit is 308\n",
        "print(10**400)\n",
        "#not different for us, but different for computers\n",
        "print(1e20 + 0.1 - 1e20)"
      ],
      "metadata": {
        "colab": {
          "base_uri": "https://localhost:8080/"
        },
        "id": "JVZC4tsDKakw",
        "outputId": "59fe6f49-1387-41de-ae9e-32f575e516d0"
      },
      "execution_count": null,
      "outputs": [
        {
          "output_type": "stream",
          "name": "stdout",
          "text": [
            "0.10000000000000001\n",
            "inf\n",
            "10000000000000000000000000000000000000000000000000000000000000000000000000000000000000000000000000000000000000000000000000000000000000000000000000000000000000000000000000000000000000000000000000000000000000000000000000000000000000000000000000000000000000000000000000000000000000000000000000000000000000000000000000000000000000000000000000000000000000000000000000000000000000000000000000000000000000000\n",
            "0.0\n"
          ]
        }
      ]
    },
    {
      "cell_type": "markdown",
      "source": [
        "#Tuesday, 9/20"
      ],
      "metadata": {
        "id": "bOydQ_D_uwOq"
      }
    },
    {
      "cell_type": "code",
      "source": [
        "a = 12345678912345678.\n",
        "b = 12345678912345677.\n",
        "print(a - b)\n",
        "#obviously a numerical error, occurs due to being beyond the 16th digit "
      ],
      "metadata": {
        "id": "5ecwkY_FLgiH",
        "colab": {
          "base_uri": "https://localhost:8080/"
        },
        "outputId": "4a73d02b-96d1-4367-b8f9-9717b6a7dd0c"
      },
      "execution_count": null,
      "outputs": [
        {
          "output_type": "stream",
          "name": "stdout",
          "text": [
            "2.0\n"
          ]
        }
      ]
    },
    {
      "cell_type": "code",
      "source": [
        "a = 0.1 + 0.1 + 0.1 \n",
        "b = 0.3\n",
        "print(a == b)\n",
        "print(a)\n",
        "print(f'{a:.20f}') #info on slide 78\n",
        "tolerance = 1e-6\n",
        "print(abs(a-b) < tolerance)\n",
        "print(np.isclose(a, b))\n",
        "#We should never compare two floats using == !!!!"
      ],
      "metadata": {
        "colab": {
          "base_uri": "https://localhost:8080/"
        },
        "id": "NVTe8t5jvlYm",
        "outputId": "9d42e80e-aebf-4cd8-f655-2df3584137b2"
      },
      "execution_count": null,
      "outputs": [
        {
          "output_type": "stream",
          "name": "stdout",
          "text": [
            "False\n",
            "0.30000000000000004\n",
            "0.30000000000000004441\n",
            "True\n",
            "True\n"
          ]
        }
      ]
    },
    {
      "cell_type": "code",
      "source": [
        "#All the way up to slide 135 for first exam "
      ],
      "metadata": {
        "id": "VQYH95XHxNXm"
      },
      "execution_count": null,
      "outputs": []
    },
    {
      "cell_type": "code",
      "source": [
        "import numpy as np\n",
        "sat_scores = np.array([1440, 1256, 1543, 1043, 989, 1412, 1343])\n",
        "students = np.array([\"Elmo\", \"Big Bird\", \"Abby\", \"Bert\", \"Grover\", \"Count von Count\", \"Cookie Monster\"])\n",
        "\n",
        "high_to_low = np.argsort(sat_scores*-1)\n",
        "print(students[high_to_low][::-1])"
      ],
      "metadata": {
        "colab": {
          "base_uri": "https://localhost:8080/"
        },
        "id": "XPz9Nt1e6uwE",
        "outputId": "75df6d29-d191-418d-a49a-df4236400630"
      },
      "execution_count": null,
      "outputs": [
        {
          "output_type": "stream",
          "name": "stdout",
          "text": [
            "['Grover' 'Bert' 'Big Bird' 'Cookie Monster' 'Count von Count' 'Elmo'\n",
            " 'Abby']\n"
          ]
        }
      ]
    },
    {
      "cell_type": "code",
      "source": [],
      "metadata": {
        "id": "6vvAHmtX61J1"
      },
      "execution_count": null,
      "outputs": []
    },
    {
      "cell_type": "markdown",
      "source": [
        "Markdown:\n",
        "\n",
        "\n",
        "*   $x^2$\n",
        "\n",
        "*   $ \\nabla \\times B = 0$\n",
        "\n",
        "*  $\\frac{1}{x}$\n",
        "\n",
        "\n",
        "Look up latex online for more "
      ],
      "metadata": {
        "id": "puUSIL7A9qkI"
      }
    },
    {
      "cell_type": "markdown",
      "source": [
        "#Thursday, 9/22\n",
        ">Beginning of topics for Exam 2"
      ],
      "metadata": {
        "id": "YNAsDiYWBdds"
      }
    },
    {
      "cell_type": "markdown",
      "source": [
        ">Numerical Integration (area under the curve)"
      ],
      "metadata": {
        "id": "NL-9KRpVDCdC"
      }
    },
    {
      "cell_type": "code",
      "source": [
        "import numpy as np\n",
        "'''Basic idea: evaluate f(x) at various sample points, and sum them up.\n",
        "Simplest: Riemann sum (h -> 0)\n",
        "(f(a) + f(a+h) + f(a+2h) + … + f(b-h)) * h\n",
        "We can do better with midpoint\n",
        "(f(a+0.5*h) + f(a+1.5*h) + f(a+2.5*h) + … + f(b-0.5*h))*h'''\n",
        "\n",
        "#Riemann sum example (using left edge) \n",
        "def f(x):\n",
        "  return x**4 -2*x + 1\n",
        "h = 0.01\n",
        "num_arr = np.arange(0, 2, h)\n",
        "calc = f(num_arr)\n",
        "print (np.sum(calc)*h)\n",
        "\n",
        "#Midpoint method example, better\n",
        "midpoint_arr = np.arange(0 + 0.5*h, 2 + 0.5*h, h)\n",
        "midpoint_calc = f(midpoint_arr)\n",
        "print (np.sum(midpoint_calc)*h)\n",
        "\n",
        "#trapezoidal Method example, best \n",
        "def f(x):\n",
        "  return x**4 - 2*x + 1\n",
        "h = 0.01 #step size\n",
        "\n",
        "x_arr = np.arange(0, 2+h, h)\n",
        "y_arr = f(x_arr)\n",
        "trapz_integration = np.trapz(y_arr, x_arr)\n",
        "print(trapz_integration)"
      ],
      "metadata": {
        "colab": {
          "base_uri": "https://localhost:8080/"
        },
        "id": "BUNSDBZuBhGo",
        "outputId": "43203f68-36e1-447b-9d47-1e76381c99f1"
      },
      "execution_count": null,
      "outputs": [
        {
          "output_type": "stream",
          "name": "stdout",
          "text": [
            "4.340266666\n",
            "4.399866667249995\n",
            "4.400266665999999\n"
          ]
        }
      ]
    },
    {
      "cell_type": "code",
      "source": [
        "a = 0\n",
        "b = 2\n",
        "np_trap_calc = f(np_trap_arr)\n",
        "np_trap_arr = np.arange(a, b + h, h)\n",
        "print(np.trapz(np_trap_calc, np_trap_arr))"
      ],
      "metadata": {
        "colab": {
          "base_uri": "https://localhost:8080/",
          "height": 241
        },
        "id": "TQ0wLBEiElee",
        "outputId": "ef7c0bf0-c172-457d-d823-0a77e16dcb30"
      },
      "execution_count": null,
      "outputs": [
        {
          "output_type": "error",
          "ename": "NameError",
          "evalue": "ignored",
          "traceback": [
            "\u001b[0;31m---------------------------------------------------------------------------\u001b[0m",
            "\u001b[0;31mNameError\u001b[0m                                 Traceback (most recent call last)",
            "\u001b[0;32m<ipython-input-55-f76853a89c3d>\u001b[0m in \u001b[0;36m<module>\u001b[0;34m\u001b[0m\n\u001b[1;32m      1\u001b[0m \u001b[0ma\u001b[0m \u001b[0;34m=\u001b[0m \u001b[0;36m0\u001b[0m\u001b[0;34m\u001b[0m\u001b[0;34m\u001b[0m\u001b[0m\n\u001b[1;32m      2\u001b[0m \u001b[0mb\u001b[0m \u001b[0;34m=\u001b[0m \u001b[0;36m2\u001b[0m\u001b[0;34m\u001b[0m\u001b[0;34m\u001b[0m\u001b[0m\n\u001b[0;32m----> 3\u001b[0;31m \u001b[0mnp_trap_calc\u001b[0m \u001b[0;34m=\u001b[0m \u001b[0mf\u001b[0m\u001b[0;34m(\u001b[0m\u001b[0mnp_trap_arr\u001b[0m\u001b[0;34m)\u001b[0m\u001b[0;34m\u001b[0m\u001b[0;34m\u001b[0m\u001b[0m\n\u001b[0m\u001b[1;32m      4\u001b[0m \u001b[0mnp_trap_arr\u001b[0m \u001b[0;34m=\u001b[0m \u001b[0mnp\u001b[0m\u001b[0;34m.\u001b[0m\u001b[0marange\u001b[0m\u001b[0;34m(\u001b[0m\u001b[0ma\u001b[0m\u001b[0;34m,\u001b[0m \u001b[0mb\u001b[0m \u001b[0;34m+\u001b[0m \u001b[0mh\u001b[0m\u001b[0;34m,\u001b[0m \u001b[0mh\u001b[0m\u001b[0;34m)\u001b[0m\u001b[0;34m\u001b[0m\u001b[0;34m\u001b[0m\u001b[0m\n\u001b[1;32m      5\u001b[0m \u001b[0mprint\u001b[0m\u001b[0;34m(\u001b[0m\u001b[0mnp\u001b[0m\u001b[0;34m.\u001b[0m\u001b[0mtrapz\u001b[0m\u001b[0;34m(\u001b[0m\u001b[0mnp_trap_calc\u001b[0m\u001b[0;34m,\u001b[0m \u001b[0mnp_trap_arr\u001b[0m\u001b[0;34m)\u001b[0m\u001b[0;34m)\u001b[0m\u001b[0;34m\u001b[0m\u001b[0;34m\u001b[0m\u001b[0m\n",
            "\u001b[0;31mNameError\u001b[0m: name 'np_trap_arr' is not defined"
          ]
        }
      ]
    },
    {
      "cell_type": "code",
      "source": [
        "from scipy import integrate\n",
        "#integrate.simpson(y, x)\n",
        "#or \n",
        "integrate.simps(np_trap_calc, np_trap_arr)"
      ],
      "metadata": {
        "id": "aHE43KwSNlyl"
      },
      "execution_count": null,
      "outputs": []
    },
    {
      "cell_type": "markdown",
      "source": [
        "#Tuesday, 9/27"
      ],
      "metadata": {
        "id": "DXK953fZxCwa"
      }
    },
    {
      "cell_type": "code",
      "source": [
        "#warm up\n",
        "import numpy as np\n",
        "a = 0\n",
        "b = 2\n",
        "h = 0.01\n",
        "def f(x):\n",
        "  return np.exp((-x**2))\n",
        "x_arr = np.arange (a, b+h, h)\n",
        "y_arr = f(trap_arr)\n",
        "np.trapz(y_arr, x_arr)"
      ],
      "metadata": {
        "id": "_rfiTJthSQIh"
      },
      "execution_count": null,
      "outputs": []
    },
    {
      "cell_type": "code",
      "source": [
        "def g(x):\n",
        "  return x**4 - (2*x) + 1\n",
        "a = 0\n",
        "b = 2\n",
        "\n",
        "h_1 = 1e-1\n",
        "h_2 = 1e-2\n",
        "h_3 = 1e-3\n",
        "\n",
        "x_arr_1 = np.arange(a, b + h_1, h_1)\n",
        "y_arr_1 = g(x_arr_1)\n",
        "h_one = (np.trapz(y_arr_1, x_arr_1))\n",
        "print(h_one)\n",
        "\n",
        "x_arr_2 = np.arange(a, b + h_2, h_2)\n",
        "y_arr_2 = g(x_arr_2)\n",
        "h_two = (np.trapz(y_arr_2, x_arr_2))\n",
        "print(h_two)\n",
        "\n",
        "x_arr_3 = np.arange(a, b + h_3, h_3)\n",
        "y_arr_3 = g(x_arr_3)\n",
        "h_three = (np.trapz(y_arr_3, x_arr_3))\n",
        "print(h_three)\n",
        "\n",
        "actual_result = 4.4\n",
        "\n",
        "h_arr = np.array([h_one, h_two, h_three])\n",
        "frac_err = (abs(h_arr - actual_result)) / actual_result\n",
        "print(frac_err)"
      ],
      "metadata": {
        "id": "KBgNfCHPyFtX"
      },
      "execution_count": null,
      "outputs": []
    },
    {
      "cell_type": "code",
      "source": [
        "def f(x):\n",
        "  return x**4 - (2*x) + 1\n",
        "\n",
        "x_arr_1 = np.linspace(0, 2, 11)\n",
        "y_arr_1 = f(x_arr_1)\n",
        "I_1 = np.trapz(y_arr_1, x_arr_1)\n",
        "\n",
        "x_arr_2 = np.linspace(0, 2, 21)\n",
        "y_arr_2 = f(x_arr_2)\n",
        "I_2 = np.trapz(y_arr_2, x_arr_2)\n",
        "\n",
        "error_est = 1/3 * (I_2 - I_1)\n",
        "true_err = I_2 - 4.4\n",
        "print('Error Estimate=', error_est)\n",
        "print('True Error =', true_err)"
      ],
      "metadata": {
        "id": "gafqXIjr1Du0"
      },
      "execution_count": null,
      "outputs": []
    },
    {
      "cell_type": "code",
      "source": [
        "from scipy import integrate \n",
        "from scipy.special import erf\n",
        "def f(x):\n",
        "  return x**4 - (2*x) + 1\n",
        "\n",
        "result = integrate.romberg(f, 0, 2)\n",
        "print(result)"
      ],
      "metadata": {
        "id": "sL_M3U7B9OT1"
      },
      "execution_count": null,
      "outputs": []
    },
    {
      "cell_type": "markdown",
      "source": [
        "#Thursday, 9/29 (Absent due to sickness)\n"
      ],
      "metadata": {
        "id": "cnrazrjgv9yU"
      }
    },
    {
      "cell_type": "code",
      "source": [
        "#Practice using romberg \n",
        "import numpy as np\n",
        "from scipy import integrate \n",
        "from scipy.special import erf\n",
        "\n",
        "def f(x):\n",
        "  return np.exp(-x**2)\n",
        "\n",
        "print (integrate.romberg(f, 0, 2))"
      ],
      "metadata": {
        "id": "NqX0gT2yCtOA"
      },
      "execution_count": null,
      "outputs": []
    },
    {
      "cell_type": "markdown",
      "source": [
        ">Intergate.romberg returns the integral of function (a function of one variable) over the interval (a, b)."
      ],
      "metadata": {
        "id": "MGxpqzeBIVA6"
      }
    },
    {
      "cell_type": "markdown",
      "source": [
        "lambda in Python: shorthand for defining a function"
      ],
      "metadata": {
        "id": "Q9fpknNtIiff"
      }
    },
    {
      "cell_type": "code",
      "source": [
        "#lambda in Python: shorthand for defining a function\n",
        "\n",
        "f = lambda x: x**2\n",
        "# f is the same as the following:\n",
        "def g(x):\n",
        " return x**2\n",
        "\n",
        "print(f(1.5, 2.5))\n",
        "print(g(1.5, 2.5))\n",
        "\n",
        "# two arguments\n",
        "f = lambda x, y:  x**2+y**2\n",
        "\n",
        "# f is the same as the following:\n",
        "\n",
        "def g(x, y):\n",
        " return x**2+y**2\n",
        "\n",
        "print(f(1.5, 2.5))\n",
        "print(g(1.5, 2.5))"
      ],
      "metadata": {
        "id": "gPO1WJRyIfye"
      },
      "execution_count": null,
      "outputs": []
    },
    {
      "cell_type": "code",
      "source": [
        "#practicing lambda\n",
        "import matplotlib.pyplot as plt\n",
        "f = lambda x: x**2\n",
        "x_arr = np.arange(0, 10, 1)\n",
        "y_arr = f(x_arr)\n",
        "\n",
        "plt.plot(x_arr, y_arr)"
      ],
      "metadata": {
        "id": "Is6pto4NIqEZ"
      },
      "execution_count": null,
      "outputs": []
    },
    {
      "cell_type": "markdown",
      "source": [
        "Gaussian quadrature\n",
        ">The scipy.integrate.quadrature() method in Python computes a definite integral using the numerical integration method of the fixed-tolerance Gaussian quadrature. The method takes a Python function, limits of integration, and absolute tolerance value as arguments and calculates the definite integral using the Gaussian quadrature."
      ],
      "metadata": {
        "id": "dAwHikTVJY1g"
      }
    },
    {
      "cell_type": "code",
      "source": [
        "def f(x):\n",
        "   return x**4 - 2*x + 1\n",
        "from scipy import integrate\n",
        "print(integrate.quadrature(f,0,2))\n",
        "print(integrate.quad(f,0,2))\n",
        "#different from trapz and simps"
      ],
      "metadata": {
        "id": "Ff018U3WJPNk"
      },
      "execution_count": null,
      "outputs": []
    },
    {
      "cell_type": "markdown",
      "source": [
        "All these methods are used in one of the two ways:\n",
        "1. pass two arrays: y_arr and x_arr\n",
        "\te.g. integrate.simps(y_arr, x_arr)\n",
        "\t(using dx is error-prone and is discouraged #CodeDefensively)\n",
        "2.  pass the integrand, lower limit, upper limit\n",
        "\te.g. integrate.quad(func, a, b)"
      ],
      "metadata": {
        "id": "t4MSKwiaKds7"
      }
    },
    {
      "cell_type": "code",
      "source": [
        "#practice and review of discussion notes activity "
      ],
      "metadata": {
        "id": "qpHT8T15KkHu"
      },
      "execution_count": null,
      "outputs": []
    },
    {
      "cell_type": "markdown",
      "source": [
        "#Tuesday, 10/4 (Absent due to sickness)"
      ],
      "metadata": {
        "id": "tZseurzWwEdj"
      }
    },
    {
      "cell_type": "code",
      "source": [],
      "metadata": {
        "id": "ES5WxG3pwH45"
      },
      "execution_count": null,
      "outputs": []
    },
    {
      "cell_type": "markdown",
      "source": [
        "#Thursday, 10/6"
      ],
      "metadata": {
        "id": "1ko9tAfMIx87"
      }
    },
    {
      "cell_type": "code",
      "source": [
        "#Review diffyQ notes\n",
        "import numpy as np\n",
        "#Gaussian elimination\n",
        "\n",
        "A = np.array[[1, 2, 3]\n",
        "     [4, 5, 6]\n",
        "     [7, 8, 10]]\n",
        "#For U, must have all 0's below the diagonal"
      ],
      "metadata": {
        "id": "507wUARjIzlg"
      },
      "execution_count": null,
      "outputs": []
    },
    {
      "cell_type": "markdown",
      "source": [
        ">LU Decompostion stands for Lower and Upper. Performing Guassian elimination on a matrice produce an upper-triangular matrix (U). \n",
        ">>What are they good for?\n",
        "\n",
        "\n",
        "> A = L U \n",
        "* To solve A x = b, we can instead solve L U x = b\n",
        "\n",
        "* Let's define y = Ux, and we can solve L y = b (easy, since L is triangular), \n",
        "* and then we solve Ux = y (also easy, since U is triangular).\n",
        "*Also: if we change b, we can use the same L & U.\n",
        "\n",
        "\n",
        "\n",
        " "
      ],
      "metadata": {
        "id": "nWoFz8JePIS3"
      }
    },
    {
      "cell_type": "markdown",
      "source": [
        "Pivoting \n",
        ">What if an element on the diagonal is zero? We can't use it to eliminate other elements.  Solution: We swap rows to make sure all the diagonal elements are non-zero (called pivoting).\n",
        "\n",
        "* Numbers that are close to zero can lead to large numerical errors. In numerical algebra, it's standard to put the number farthest from zero (positive or negative) on the diagonal before doing Gaussian elimination\n"
      ],
      "metadata": {
        "id": "-442pIc0Pyi4"
      }
    },
    {
      "cell_type": "code",
      "source": [
        "from scipy.linalg import lu\n",
        "\n",
        "A = np.array([[1, 2, 3], [4, 5, 6], [7, 8, 10]])\n",
        "\n",
        "p, l, u = lu(A)\n",
        "print('P',p)\n",
        "print('L',l)\n",
        "print('U',u)\n",
        "print('Original Matrix',p @ l @ u)\n",
        "print(np.allclose(p @ l @ u, A))\n",
        "print(np.isclose(p @ l @ u, A))"
      ],
      "metadata": {
        "id": "2rf-SNdWPf1X"
      },
      "execution_count": null,
      "outputs": []
    },
    {
      "cell_type": "code",
      "source": [
        "#Matrice inversion\n",
        "a = np.array([[3, 5], [-7, 2]])\n",
        "from scipy import linalg\n",
        "linalg.inv(a)\n",
        "from scipy.linalg import inv\n",
        "inv(a)\n",
        "import scipy.linalg\n",
        "scipy.linalg.inv(a)\n",
        "import scipy.linalg as LA\n",
        "LA.inv(a)\n"
      ],
      "metadata": {
        "id": "5eJDuL_aQPqH"
      },
      "execution_count": null,
      "outputs": []
    },
    {
      "cell_type": "code",
      "source": [
        "ainv = linalg.inv(a)\n",
        "I = np.identity(2)\n",
        "I2 = np.eye(2) #same as identity matrix, just a lil python trick\n",
        "print(np.allclose(a @ ainv, I))\n",
        "print(np.allclose(ainv @ a, I2))"
      ],
      "metadata": {
        "id": "emoYfbdNU5fb"
      },
      "execution_count": null,
      "outputs": []
    },
    {
      "cell_type": "markdown",
      "source": [
        ">Eigenvalues and eigenvectors "
      ],
      "metadata": {
        "id": "xvCDJJp3WK2J"
      }
    },
    {
      "cell_type": "markdown",
      "source": [
        "#Tuesday, 10/11"
      ],
      "metadata": {
        "id": "EKyBWc1f4sHo"
      }
    },
    {
      "cell_type": "code",
      "source": [
        "#Exam #2 is NEXT FRIDAY!! (October 21)\n",
        "#Includes integration, linear algebra, and data analysis (up to next Tuesday)\n",
        "#Includes HAND CALCULATIONS for matrices!"
      ],
      "metadata": {
        "id": "4vwN2c8V4zXC"
      },
      "execution_count": null,
      "outputs": []
    },
    {
      "cell_type": "code",
      "source": [
        "#remember eigenvectors are columns "
      ],
      "metadata": {
        "id": "F11YE1045THD"
      },
      "execution_count": null,
      "outputs": []
    },
    {
      "cell_type": "code",
      "source": [
        "import numpy as np\n",
        "from scipy.linalg import lu\n",
        "from scipy import linalg\n",
        "\n",
        "A = np.array([[1, 2, 3], [4, 5, 6], [7, 8, 9]])\n",
        "det = np.linalg.det(A) #determinant\n",
        "print(det)\n",
        "p, l, u = lu(A)\n",
        "print('P',p)\n",
        "print('L',l)\n",
        "print('U', u)\n",
        "print(np.allclose(p @ l @ u, A))"
      ],
      "metadata": {
        "id": "tG8oFrr85-Li"
      },
      "execution_count": null,
      "outputs": []
    },
    {
      "cell_type": "code",
      "source": [
        "#eigen\n",
        "eigenvalues, eigenvectors = linalg.eig(A)\n",
        "print(\"Before sorting:\")\n",
        "print(eigenvalues)\n",
        "print(eigenvectors)\n",
        "#eigenvectors are columns, not rows! \n",
        "print('first eigenvector', eigenvectors[:,0])\n",
        "print('second eigenvector', eigenvectors[:,1]) \n",
        "print('third eigenvector', eigenvectors[:,2]) "
      ],
      "metadata": {
        "id": "JpuoHMCF6x-s"
      },
      "execution_count": null,
      "outputs": []
    },
    {
      "cell_type": "code",
      "source": [
        "#sort eigenvectors: large eigenvectors first \n",
        "index = np.argsort(-eigenvalues)\n",
        "print('after sorting:')\n",
        "print(eigenvectors[index])\n",
        "print(eigenvectors[:,index])"
      ],
      "metadata": {
        "id": "Quk6OFN78_LS"
      },
      "execution_count": null,
      "outputs": []
    },
    {
      "cell_type": "code",
      "source": [
        "from scipy import linalg\n",
        "#(1)\n",
        "U, sigma_arr, VT = linalg.svd(A)\n",
        "print('U', U)\n",
        "print('Sigma', sigma_arr)\n",
        "print('VT', VT)\n",
        "Sigma = np.diag(sigma_arr) #making sigma a diagonal matrix\n",
        "print('new sigma', Sigma)\n",
        "print('verify U sigma VT:', np.allclose(A, U @ Sigma @ VT))"
      ],
      "metadata": {
        "id": "iAXHxrPi-Eqi"
      },
      "execution_count": null,
      "outputs": []
    },
    {
      "cell_type": "code",
      "source": [
        "#(2)\n",
        "sigmainv_arr = 1./sigma_arr\n",
        "print('original sigma_inv',sigmainv_arr)\n",
        "#lets get rid of the infinity \n",
        "sigmainv_arr[sigmainv_arr > 1e10] = 0\n",
        "print('after getting rid of infinity', sigmainv_arr)\n",
        "Sigmainv = np.diag(sigmainv_arr)\n",
        "V = np.transpose(VT)\n",
        "UT = np.transpose(U)\n",
        "print('pseudo inv', V @ Sigmainv @ UT)\n",
        "# (3)\n",
        "print('linalg.pinv', linalg.pinv(A))"
      ],
      "metadata": {
        "id": "AgdblXb4BZ1c"
      },
      "execution_count": null,
      "outputs": []
    },
    {
      "cell_type": "markdown",
      "source": [
        "#What is pseudo-inverse good for?\n",
        "If A is singular, Ax = b either (1) has infinitely many solutions or (2) has no solution\n",
        "* If there are infinitely many solutions,\n",
        "x = A+ b gives the solution with shortest |x|\n",
        "* If there is no solution, x = A+ b gives the solution with shortest |Ax - b|\n"
      ],
      "metadata": {
        "id": "KjM5oN6bHhC9"
      }
    },
    {
      "cell_type": "code",
      "source": [
        "#1. Calculate the pseudo-inverse of A\n",
        "A_pinv = linalg.pinv(A)\n",
        "\n",
        "#2. Solve Ax = b_1\n",
        "b = np.array([[1], [2], [5]])\n",
        "x = A_pinv @b\n",
        "print('Solution', x)\n",
        "\n",
        "#3. Calculate the norm of Ax - b1  (i.e. the square root of the sum of the square of each element, \n",
        "#also called the Frobenius norm)\n",
        "diff = A @ x - b\n",
        "print('norm', np.sqrt(np.sum(diff**2)))\n",
        "print('norm', linalg.norm(diff))\n",
        "#@ multiplies matrices!"
      ],
      "metadata": {
        "id": "k57ZJBx0HoLX"
      },
      "execution_count": null,
      "outputs": []
    },
    {
      "cell_type": "markdown",
      "source": [
        "Thursday, 10/13"
      ],
      "metadata": {
        "id": "BOYMu0NEMaqG"
      }
    },
    {
      "cell_type": "markdown",
      "source": [
        ">If A is symmetric, then A = X Λ XT, and X is orthonormal XXT  = I\n"
      ],
      "metadata": {
        "id": "BkPXyGkVW7b-"
      }
    },
    {
      "cell_type": "code",
      "source": [
        "import numpy as np\n",
        "from numpy import linalg\n",
        "\n",
        "A = np.array([[2,-1,0],[-1,2,-1],[0,-1,2]])\n",
        "#Calculate the determinant\n",
        "det = linalg.det(A)\n",
        "print(det)\n",
        "\n",
        "#Calculate the eigenvalues and eigenvectors\n",
        "eigenvalues, eigenvectors = linalg.eig(A)\n",
        "print('Eigenvalues', eigenvalues)\n",
        "print('Eigenvectors',eigenvectors)\n",
        "\n",
        "#Verify that A = X Lambda XT (eigenvalue decomp)\n",
        "lam = np.diag(eigenvalues)\n",
        "transpose = eigenvectors.T\n",
        "B = eigenvectors @ lam @ transpose\n",
        "print('Verify A = X Lambda XT', B)\n",
        "print(np.allclose(eigenvectors @ lam @ transpose, A))\n",
        "\n",
        "#Calculate the singular values, left singular vectors, right singular vectors\n",
        "U, sigma_arr, VT = linalg.svd(A)\n",
        "print('Left singular vectors', U) \n",
        "print('Right singular vectors', VT)\n",
        "print('Singular values', sigma_arr)\n",
        "\n",
        "#Verify that A = U Sigma VT\n",
        "Sigma = np.diag(sigma_arr) # making Sigma a matrix\n",
        "print('verify U Sigma VT: ', np.allclose(A, U @ Sigma @ VT))\n",
        "\n",
        "#What's the relation between eigenvalue decomposition and singular value decomposition for this matrix?\n",
        "print('Both decompositions are equal')"
      ],
      "metadata": {
        "id": "GXYzzfOhIHGX"
      },
      "execution_count": null,
      "outputs": []
    },
    {
      "cell_type": "markdown",
      "source": [
        ">If A is not symmetric, then A = X Λ X-1, and X is not orthonormal\n"
      ],
      "metadata": {
        "id": "Z5QQiuMfW9b2"
      }
    },
    {
      "cell_type": "code",
      "source": [
        "import numpy as np\n",
        "from numpy import linalg\n",
        "\n",
        "A_2 = np.array([[1,-1,0],[0,1,-1],[1,0,-1]])\n",
        "#Calculate the determinant\n",
        "det = linalg.det(A_2)\n",
        "\n",
        "#Calculate the eigenvalues and eigenvectors\n",
        "eigenvalues, eigenvectors = linalg.eig(A_2)\n",
        "print('Eigenvalues', eigenvalues)\n",
        "\n",
        "#Verify that A = X Lambda X-1 \n",
        "lam = np.diag(eigenvalues)\n",
        "inverse = linalg.inv(eigenvectors)\n",
        "B = eigenvectors @ lam @ inverse\n",
        "print(np.allclose(eigenvectors @ lam @ inverse, A_2))\n",
        "\n",
        "#Calculate the singular values, left singular vectors, right singular vectors\n",
        "U, sigma_arr, VT = linalg.svd(A_2)\n",
        "\n",
        "#Verify that A = U Sigma VT\n",
        "Sigma = np.diag(sigma_arr) # making Sigma a matrix\n",
        "print('verify U Sigma VT: ', np.allclose(A_2, U @ Sigma @ VT))\n",
        "\n",
        "#How is this different from the previous example?\n",
        "print('Inverse is used rather than transpose')"
      ],
      "metadata": {
        "id": "AoeX29yFM7gp"
      },
      "execution_count": null,
      "outputs": []
    },
    {
      "cell_type": "code",
      "source": [
        "import numpy as np\n",
        "from numpy import linalg\n",
        "\n",
        "A_3 = np.array([[5,7],[6,3],[-1,2]])\n",
        "U, sigma_arr, VT =  linalg.svd(A_3)\n",
        "\n",
        "sigma_matrix = np.array([[10.6, 0], [0, 3.3], [0,0]])  \n"
      ],
      "metadata": {
        "id": "2SgZpA1GUaIk"
      },
      "execution_count": null,
      "outputs": []
    },
    {
      "cell_type": "markdown",
      "source": [
        "#Tuesday, 10/18"
      ],
      "metadata": {
        "id": "_TmDztdDgzMw"
      }
    },
    {
      "cell_type": "code",
      "source": [
        "import numpy as np\n",
        "from numpy import linalg\n",
        "A = np.array([2,4,6,8,-1,0,1,0,1,2,3,4,1,4,7,8]).reshape(4,4)\n",
        "print(A)"
      ],
      "metadata": {
        "id": "pHzl4W3MX8ia"
      },
      "execution_count": null,
      "outputs": []
    },
    {
      "cell_type": "markdown",
      "source": [
        "#Material for Exam 2 (put on notecard!)\n"
      ],
      "metadata": {
        "id": "JPSJVEkgnWbn"
      }
    },
    {
      "cell_type": "code",
      "source": [
        "#Eigenvalue decomposition \n",
        "from scipy import linalg\n",
        "from scipy import integrate\n",
        "import matplotlib.pyplot as plt\n",
        "eigenvalues, eigenvectors = linalg.eig(A)\n",
        "#before sorting ^^\n",
        "\n",
        "print('first eigenvector', eigenvectors[:,0])\n",
        "# sort eigenvectors: large to small\n",
        "index = np.argsort(-eigenvalues)\n",
        "print(eigenvalues[index])\n",
        "print(eigenvectors[:,index])\n",
        "#corresponding vector of each value \n",
        "\n",
        "#Error function (takes in the upper limit of \n",
        "#an integration and outputs the result of it)\n",
        "def e(x):\n",
        "  f = lambda t: np.exp(-t**2)\n",
        "  i = integrate.quad(f, 0, x)\n",
        "  return i\n",
        "x_arr = np.linspace(0, 3, 100)\n",
        "y_arr = []\n",
        "for x in x_arr:\n",
        "  y_arr.append(e(x))\n",
        "y_arr = np.array(y_arr)\n",
        "plt.plot(x_arr, y_arr)"
      ],
      "metadata": {
        "id": "1_mSReS9g9xs"
      },
      "execution_count": null,
      "outputs": []
    },
    {
      "cell_type": "code",
      "source": [
        "arr = np.array([[1,2], [2,1]])\n",
        "print(arr)\n",
        "t = np.transpose(arr)\n",
        "print(t)"
      ],
      "metadata": {
        "id": "XRaVqG-J2YPy"
      },
      "execution_count": null,
      "outputs": []
    },
    {
      "cell_type": "code",
      "source": [
        "arr = np.array([[1,2,3], [4,5,6]])\n",
        "arr2 = np.array([[1,3], [4,5], [6,7]])\n",
        "print(arr)\n",
        "print(arr2)"
      ],
      "metadata": {
        "id": "Y3r1w-o5FL4F"
      },
      "execution_count": null,
      "outputs": []
    },
    {
      "cell_type": "code",
      "source": [
        "print(7%3)"
      ],
      "metadata": {
        "id": "WvqoAxj9G9FZ"
      },
      "execution_count": null,
      "outputs": []
    },
    {
      "cell_type": "markdown",
      "source": [
        "#Tuesday, 10/25"
      ],
      "metadata": {
        "id": "MvTw7AINEiNf"
      }
    },
    {
      "cell_type": "code",
      "source": [
        "import numpy as np\n",
        "x = np.array([63.65868476, 64.59765675, 65.30541444, 63.53366255, 66.26193878,\n",
        "      67.60795265, 67.57792303, 69.38398625, 71.18409535, 70.90454756])\n",
        "N = len(x)\n",
        "sample_mean = 1/N * np.sum(x)\n",
        "sample_variance = 1/(N-1) * np.sum((x - sample_mean)**2)\n",
        "s = np.sqrt(sample_variance) #standard deviation\n",
        "standard_error1 = s / (np.sqrt(N))\n",
        "print(standard_error1)\n",
        "print(\"STD\",np.std(x,ddof=1))\n",
        "print(\"Hand Calculated STD\", s)"
      ],
      "metadata": {
        "colab": {
          "base_uri": "https://localhost:8080/"
        },
        "id": "rLjffF8pFHZB",
        "outputId": "c5823920-97fd-43b9-80af-c13e1f7a83c4"
      },
      "execution_count": null,
      "outputs": [
        {
          "output_type": "stream",
          "name": "stdout",
          "text": [
            "0.8913572846739698\n",
            "STD 2.8187192285528413\n",
            "Hand Calculated STD 2.8187192285528413\n"
          ]
        }
      ]
    },
    {
      "cell_type": "code",
      "source": [
        "import numpy as np\n",
        "x = np.array([120.61051228, 125.31693251, 125.31726086, 127.23471398,\n",
        "      139.93428306, 140.85120087, 142.95377076, 145.34869458,\n",
        "      160.46059713, 161.58425631])\n",
        "y = np.array([63.65868476, 64.59765675, 65.30541444, 63.53366255, 66.26193878,\n",
        "      67.60795265, 67.57792303, 69.38398625, 71.18409535, 70.90454756])\n",
        "\n",
        "x_bar = np.mean(x)\n",
        "y_bar = np.mean(y)\n",
        "b = np.sum((x - x_bar)*(y - y_bar)) / np.sum((x - x_bar)**2)\n",
        "print(b)\n",
        "a = y_bar - b*x_bar\n",
        "print(a)"
      ],
      "metadata": {
        "colab": {
          "base_uri": "https://localhost:8080/"
        },
        "id": "kNHDlFLQHRiG",
        "outputId": "45434f6f-9804-4e7e-dd9a-a07f11959b43"
      },
      "execution_count": null,
      "outputs": [
        {
          "output_type": "stream",
          "name": "stdout",
          "text": [
            "0.1881729898883995\n",
            "40.85283754568188\n"
          ]
        }
      ]
    },
    {
      "cell_type": "markdown",
      "source": [
        "#Thursday, 10/27"
      ],
      "metadata": {
        "id": "tloSz0rySvZN"
      }
    },
    {
      "cell_type": "markdown",
      "source": [
        "Ask everyone in this experiment to measure their weights 10x \n",
        "* each person's height: xi\n",
        "* each person's weight: yi\n",
        "* each person's weight uncertainty: σi\n",
        "\n",
        "> a is intercept, b is slope\n",
        "\n",
        "> Degrees of freedom ν (Greek letter nu) = number of data points - number of model parameters \n"
      ],
      "metadata": {
        "id": "N0e_6yprTAVs"
      }
    },
    {
      "cell_type": "code",
      "source": [
        "#Linear Regression w/ Error Bars \n",
        "import numpy as np\n",
        "import matplotlib.pyplot as plt\n",
        "x = np.array([120.61051228, 125.31693251, 125.31726086, 127.23471398, 139.93428306, 140.85120087, 142.95377076, 145.34869458, 160.46059713, 161.58425631])\n",
        "y = np.array([63.65868476, 64.59765675, 65.30541444, 63.53366255, 66.26193878,\n",
        " 67.60795265, 67.57792303, 69.38398625, 71.18409535, 70.90454756])\n",
        "sigma_y = np.array([0.58065631, 1.01441054, 0.26079558, 0.65342395, 0.78509076, 0.06280835, 0.82113238, 0.23663287, 0.09261278, 1.34560599])\n",
        "\n",
        "plt.errorbar(x, y, sigma_y, linestyle='', color = 'purple')\n",
        "intercept, slope = np.polynomial.polynomial.polyfit(x, y, deg=1, w = 1/sigma_y) #degree of polynomial, not freedom\n",
        "\n",
        "def f(x):\n",
        "  return intercept + slope * x \n",
        "\n",
        "y_fit = f(x)\n",
        "plt.plot(x,y_fit)\n",
        "\n",
        "chi_square = np.sum(((y - y_fit)**2)/(sigma_y **2))\n",
        "print(chi_square)\n"
      ],
      "metadata": {
        "id": "iaADuGBjOrZF",
        "colab": {
          "base_uri": "https://localhost:8080/",
          "height": 283
        },
        "outputId": "2354745f-e6ea-4436-8898-d60031948e82"
      },
      "execution_count": null,
      "outputs": [
        {
          "output_type": "stream",
          "name": "stdout",
          "text": [
            "28.40212522485931\n"
          ]
        },
        {
          "output_type": "display_data",
          "data": {
            "text/plain": [
              "<Figure size 432x288 with 1 Axes>"
            ],
            "image/png": "[encoded data removed]"
          },
          "metadata": {
            "needs_background": "light"
          }
        }
      ]
    },
    {
      "cell_type": "code",
      "source": [
        "def f(x):\n",
        "  return 1/x**6 - np.exp(-x)\n",
        "\n",
        "x_arr = np.linspace(1,10,100)\n",
        "y_arr = f(x_arr)\n",
        "plt.plot(x_arr, y_arr)\n",
        "\n",
        "#Find x where f(x) is the lowest\n",
        "from scipy.optimize import minimize\n",
        "result = minimize(f, 1) #1 is a guess;it needs a place to start rolling down \n",
        "print(result) #full answer\n",
        "print('This function is minimized at', result.x)\n",
        "print('the minimum value is',result.fun)"
      ],
      "metadata": {
        "colab": {
          "base_uri": "https://localhost:8080/",
          "height": 480
        },
        "id": "OvjlmBJ7T-vh",
        "outputId": "a18245a6-0bb2-4ebf-ccf9-55555a3d6610"
      },
      "execution_count": null,
      "outputs": [
        {
          "output_type": "stream",
          "name": "stdout",
          "text": [
            "      fun: -0.14261159579236557\n",
            " hess_inv: array([[1.56491973]])\n",
            "      jac: array([4.18908894e-06])\n",
            "  message: 'Optimization terminated successfully.'\n",
            "     nfev: 18\n",
            "      nit: 5\n",
            "     njev: 9\n",
            "   status: 0\n",
            "  success: True\n",
            "        x: array([1.63052242])\n",
            "This function is minimized at [1.63052242]\n",
            "the minimum value is -0.14261159579236557\n"
          ]
        },
        {
          "output_type": "display_data",
          "data": {
            "text/plain": [
              "<Figure size 432x288 with 1 Axes>"
            ],
            "image/png": "[encoded data removed]"
          },
          "metadata": {
            "needs_background": "light"
          }
        }
      ]
    },
    {
      "cell_type": "code",
      "source": [
        "x = np.array([-0.34450244, -0.27538229, -0.20626214, -0.13714199, -0.06802183, 0.00109832,  0.07021847,  0.13933862,  0.20845877,  0.27757892])\n",
        "y = np.array([0.02893512, 0.05787024, 0.56423488, 1.34548316, 3.24073364, 3.73263071, 3.19733096, 1.67823706, 0.44849439, 0.17361073])\n",
        "\n",
        "def f(x, sigma):\n",
        "  mu = 0\n",
        "  return (1 / (sigma * np.sqrt(2*np.pi)))*np.exp(-1/2 * (((x-mu)/sigma)**2))\n",
        "  \n",
        "def chi_squared(sigma):\n",
        "  return np.sum((y - f(x,sigma))**2)\n",
        "\n",
        "from scipy.optimize import minimize\n",
        "result = minimize(chi_squared, 1) \n",
        "print(result) "
      ],
      "metadata": {
        "colab": {
          "base_uri": "https://localhost:8080/"
        },
        "id": "qA8u0UwQbqpg",
        "outputId": "33e695af-6f89-484d-a071-34152d9088f0"
      },
      "execution_count": null,
      "outputs": [
        {
          "output_type": "stream",
          "name": "stdout",
          "text": [
            "      fun: 0.14313178208191535\n",
            " hess_inv: array([[0.00017587]])\n",
            "      jac: array([-6.64964318e-07])\n",
            "  message: 'Optimization terminated successfully.'\n",
            "     nfev: 38\n",
            "      nit: 5\n",
            "     njev: 19\n",
            "   status: 0\n",
            "  success: True\n",
            "        x: array([0.10289261])\n"
          ]
        }
      ]
    },
    {
      "cell_type": "code",
      "source": [],
      "metadata": {
        "id": "3NrDzBttfh_i"
      },
      "execution_count": null,
      "outputs": []
    },
    {
      "cell_type": "markdown",
      "source": [
        "#Tuesday, 11/1\n"
      ],
      "metadata": {
        "id": "NDN9mp0hD_4e"
      }
    },
    {
      "cell_type": "markdown",
      "source": [
        "Interpolation is connecting data points to get a reasonable estimate (goingt through all the data points) while fitting finds a curve that indicates the trend of the data.\n",
        "> For linear interpolation, f(x) is known at x = a and x = b. Points in between a and b is estimated by assuming a straight line. \n",
        "Most widely used and robust. There are more complicated methods but sometimes give bad results. "
      ],
      "metadata": {
        "id": "romTQ6qlEUrT"
      }
    },
    {
      "cell_type": "code",
      "source": [
        "#interpolation example\n",
        "import numpy as np\n",
        "from scipy import interpolate \n",
        "import matplotlib.pyplot as plt\n",
        "x = np.array([0, 1, 2, 3, 4, 5, 6, 7, 8, 9])\n",
        "y = np.array([  0. ,  -3.8,  -1.6,   6.6,  20.8,\n",
        "              41. ,  67.2,  99.4, 137.6, 181.8])\n",
        "\n",
        "\n",
        "f = interpolate.interp1d(x, y)\n",
        "ynew = f(4.3)\n",
        "\n",
        "g = interpolate.interp1d(y, x)\n",
        "xnew = g(50)\n",
        "\n",
        "plt.scatter(x,y, color='tan')\n",
        "plt.scatter(4.3, ynew, color='purple')\n",
        "plt.scatter(xnew, 50, color='lime')"
      ],
      "metadata": {
        "colab": {
          "base_uri": "https://localhost:8080/",
          "height": 283
        },
        "id": "_XZviH38EBq5",
        "outputId": "3cef78ad-8824-4499-840b-70fa53001e7a"
      },
      "execution_count": null,
      "outputs": [
        {
          "output_type": "execute_result",
          "data": {
            "text/plain": [
              "<matplotlib.collections.PathCollection at 0x7f9e30867e50>"
            ]
          },
          "metadata": {},
          "execution_count": 10
        },
        {
          "output_type": "display_data",
          "data": {
            "text/plain": [
              "<Figure size 432x288 with 1 Axes>"
            ],
            "image/png": "[encoded data removed]"
          },
          "metadata": {
            "needs_background": "light"
          }
        }
      ]
    },
    {
      "cell_type": "code",
      "source": [
        "from scipy import optimize\n",
        "def f(x):\n",
        "  return 5*np.exp(-x) + x - 5\n",
        "\n",
        "x_arr = np.linspace(1,10, 1000)\n",
        "y_arr = f(x_arr)\n",
        "plt.plot(x_arr, y_arr)\n",
        "plt.axhline(0, color = 'purple')\n",
        "\n",
        "sol = optimize.root_scalar(f, bracket=[3,6], method='brentq')\n",
        "print(sol)\n",
        "\n",
        "def fprime(x):\n",
        "  return -5*np.exp(-x) + 1\n",
        "\n",
        "sol1 = optimize.root_scalar(f, x0=4, fprime=fprime, method='newton')\n",
        "print(sol1)"
      ],
      "metadata": {
        "id": "McWpq88RFNJZ"
      },
      "execution_count": null,
      "outputs": []
    },
    {
      "cell_type": "code",
      "source": [],
      "metadata": {
        "id": "oqagOW-wL3tj"
      },
      "execution_count": null,
      "outputs": []
    },
    {
      "cell_type": "markdown",
      "source": [
        "#Thursday, 11/3"
      ],
      "metadata": {
        "id": "aGjK0XNaWiL3"
      }
    },
    {
      "cell_type": "markdown",
      "source": [
        ">ODE: Euler's method (done by hand, have photo)\n",
        "Will be on exam!"
      ],
      "metadata": {
        "id": "jgnzW3ynWlqj"
      }
    },
    {
      "cell_type": "code",
      "source": [
        "from scipy import integrate\n",
        "import numpy as np\n",
        "import matplotlib.pyplot as plt\n",
        "\n",
        "#define a function of the right hand side\n",
        "def f(t, x):\n",
        "  dxdt = -x**3 + np.sin(t) \n",
        "  return dxdt\n",
        "\n",
        "t_span = [0,10] #time range we want to solve\n",
        "x0 = [0] #initial location \n",
        "\n",
        "sol = integrate.solve_ivp(f, t_span, x0)\n",
        "t_sol = sol.t\n",
        "x_sol = sol.y[0]\n",
        "plt.plot(t_sol, x_sol)"
      ],
      "metadata": {
        "colab": {
          "base_uri": "https://localhost:8080/",
          "height": 285
        },
        "id": "xLoztXuNWjmq",
        "outputId": "ddcdf152-0761-4581-dced-d2c9011dd5dd"
      },
      "execution_count": null,
      "outputs": [
        {
          "output_type": "execute_result",
          "data": {
            "text/plain": [
              "[<matplotlib.lines.Line2D at 0x7f9e316fe850>]"
            ]
          },
          "metadata": {},
          "execution_count": 11
        },
        {
          "output_type": "display_data",
          "data": {
            "text/plain": [
              "<Figure size 432x288 with 1 Axes>"
            ],
            "image/png": "[encoded data removed]"
          },
          "metadata": {
            "needs_background": "light"
          }
        }
      ]
    },
    {
      "cell_type": "code",
      "source": [
        "def f(t, r):\n",
        "  x = r[0]\n",
        "  y = r[1]\n",
        "  dxdt = x*y - x\n",
        "  dydt = y - x*y + (np.sin(t))**2\n",
        "  return dxdt, dydt\n",
        "\n",
        "t_span = [0,10]\n",
        "y0 = [1,1]\n",
        "from scipy.integrate import solve_ivp\n",
        "sol = solve_ivp(f, t_span , y0, t_eval=np.linspace(0,10,100))\n",
        "t_sol = sol.t\n",
        "x_sol = sol.y[0]\n",
        "y_sol = sol.y[1]\n",
        "plt.plot(t_sol, x_sol)\n",
        "plt.plot(t_sol, y_sol)\n"
      ],
      "metadata": {
        "colab": {
          "base_uri": "https://localhost:8080/",
          "height": 283
        },
        "id": "KFNG6MkTfN67",
        "outputId": "1ec6f658-2bf9-4a06-8c04-8ef2798cc817"
      },
      "execution_count": null,
      "outputs": [
        {
          "output_type": "execute_result",
          "data": {
            "text/plain": [
              "[<matplotlib.lines.Line2D at 0x7f9e2fc97190>]"
            ]
          },
          "metadata": {},
          "execution_count": 12
        },
        {
          "output_type": "display_data",
          "data": {
            "text/plain": [
              "<Figure size 432x288 with 1 Axes>"
            ],
            "image/png": "[encoded data removed]"
          },
          "metadata": {
            "needs_background": "light"
          }
        }
      ]
    },
    {
      "cell_type": "code",
      "source": [],
      "metadata": {
        "id": "lr3vLcouj-S_"
      },
      "execution_count": null,
      "outputs": []
    },
    {
      "cell_type": "markdown",
      "source": [
        "#Tuesday, 11/8\n",
        "Final Exam (#3) next Friday!\n"
      ],
      "metadata": {
        "id": "8dvT_hLXT7_C"
      }
    },
    {
      "cell_type": "markdown",
      "source": [
        ">Foxes and Rabbits problem\n",
        "* α: rabbits reproduce by themselves\n",
        "* β: rabbits die because of foxes\n",
        "* γ: foxes reproduce when they have rabbits to eat\n",
        "* δ: foxes die by themselves\n",
        "Different sets of parameters will lead to different solutions\n",
        "\n",
        ">Epidemiology: the SIR model\n",
        "* S(t): Susceptible (not sick)\n",
        "* I(t): Infectious (sick, can spread disease)\n",
        "* R(t): Recovered (won't get sick again, won't spread disease)\n",
        "* N: Total population: N = S + I + R = constant\n"
      ],
      "metadata": {
        "id": "Q0pCs5rLUPAQ"
      }
    },
    {
      "cell_type": "code",
      "source": [
        "#SIR practice\n",
        "import numpy as np\n",
        "from scipy.integrate import solve_ivp\n",
        "import matplotlib.pyplot as plt\n",
        "\n",
        "def f(t,r):\n",
        "  S = r[0]\n",
        "  I = r[1]\n",
        "  R = r[2]\n",
        "  beta = 0.4\n",
        "  gamma = 0.04\n",
        "  N = 1000\n",
        "  dSdt = - (beta*I*S / N)\n",
        "  dIdt = (beta*I*S / N) - gamma*I\n",
        "  dRdt = gamma*I\n",
        "  return dSdt, dIdt, dRdt\n",
        "\n",
        "r0 = [997,3,0] #initial conditions \n",
        "sol = solve_ivp(f, t_span=(0,100), y0 = r0, t_eval=np.linspace(0,100,1000))\n",
        "\n",
        "t = sol.t\n",
        "x = sol.y[0]\n",
        "y = sol.y[1]\n",
        "z = sol.y[2]\n",
        "\n",
        "plt.plot(t, x, label = 'S(t)')\n",
        "plt.plot(t, y, label = 'I(t)')\n",
        "plt.plot(t,z, label = 'R(t)')\n",
        "plt.legend()\n",
        "plt.show()"
      ],
      "metadata": {
        "id": "AWnbQAdHT-td"
      },
      "execution_count": null,
      "outputs": []
    },
    {
      "cell_type": "code",
      "source": [
        "beta_arr = np.array([0.4, 0.1, 0.05, 0.03])\n",
        "for beta in beta_arr:\n",
        "  def f(t,r):\n",
        "    N = 1000\n",
        "    gamma = 0.04\n",
        "    S = r[0]\n",
        "    I = r[1]\n",
        "    R = r[2]\n",
        " \n",
        "    dSdt = -(beta*I*S)/N\n",
        "    dIdt = (beta*I*S)/N - gamma*I\n",
        "    dRdt = gamma*I\n",
        " \n",
        "    return dSdt, dIdt, dRdt\n",
        "  sol = solve_ivp(f, t_span = (0, 1000), y0=r0, t_eval=np.linspace(0,1000,1000))\n",
        "  t_sol = sol.t\n",
        "  I_sol = sol.y[1]\n",
        "  plt.plot(t_sol, I_sol, label= r'$\\beta$ =' +str(beta))\n",
        "plt.legend()"
      ],
      "metadata": {
        "id": "MtCTNGnPWykw"
      },
      "execution_count": null,
      "outputs": []
    },
    {
      "cell_type": "code",
      "source": [],
      "metadata": {
        "id": "8iQL3P9Sc9yV"
      },
      "execution_count": null,
      "outputs": []
    },
    {
      "cell_type": "markdown",
      "source": [
        "#Thursday, 11/10"
      ],
      "metadata": {
        "id": "AbQjrESGovMn"
      }
    },
    {
      "cell_type": "markdown",
      "source": [
        ">Second order DE's\n",
        "* Step 1 to solving second order DEs: Convert it to 2 first-order equations\n",
        "\n",
        "* dx2/dt2 = -x -->\n",
        "* dx/dt = v\n",
        "*dv/dt = -x\n",
        "\n",
        "--> Will be on exam!\n",
        "\n",
        ">Instead of rabbit fox, you now have position and velocity "
      ],
      "metadata": {
        "id": "UeVCe92CsYHE"
      }
    },
    {
      "cell_type": "code",
      "source": [
        "import numpy as np\n",
        "from scipy.integrate import solve_ivp\n",
        "import matplotlib.pyplot as plt\n",
        "\n",
        "def f(t,r):\n",
        "  x = r[0]\n",
        "  y = r[1]\n",
        "  dxdt = y\n",
        "  dydt = -x \n",
        "  return dxdt, dydt\n",
        "\n",
        "y0 = [1,0] #initial conditions \n",
        "\n",
        "sol = solve_ivp(f, t_span=(0,50), y0 = y0, t_eval=np.linspace(0,50,1000))\n",
        "\n",
        "t = sol.t\n",
        "x = sol.y[0]\n",
        "\n",
        "plt.plot(t, x, label = 'x(t)', color = 'violet')\n",
        "plt.legend()"
      ],
      "metadata": {
        "id": "dOVlX6YXox0E"
      },
      "execution_count": null,
      "outputs": []
    },
    {
      "cell_type": "code",
      "source": [
        "def f(t,r):\n",
        "  x = r[0]\n",
        "  v = r[1]\n",
        "  dxdt = v\n",
        "  dvdt = -x**3 \n",
        "  return dxdt, dvdt\n",
        "\n",
        "y0 = [1,0] #initial conditions \n",
        "\n",
        "sol = solve_ivp(f, t_span=(0,50), y0 = y0, t_eval=np.linspace(0,50,1000))\n",
        "\n",
        "t = sol.t\n",
        "z = sol.y[0]\n",
        "\n",
        "plt.plot(t, z, label = 'v(t)', color = 'blue')\n",
        "plt.plot(t, x, label = 'x(t)', color = 'violet')\n",
        "plt.legend()\n",
        "plt.show()"
      ],
      "metadata": {
        "id": "QTBLwG-FuZ-o"
      },
      "execution_count": null,
      "outputs": []
    },
    {
      "cell_type": "code",
      "source": [
        "def f(t,r):\n",
        "  y = r[0]\n",
        "  v = r[1]\n",
        "  g = 9.8\n",
        "  dydt = v\n",
        "  dvdt = -g\n",
        "  return dydt, dvdt \n",
        "\n",
        "y0 = [0,20] #initial conditions \n",
        "\n",
        "sol = solve_ivp(f, t_span=(0,5), y0 = y0, t_eval=np.linspace(0,5,100))\n",
        "\n",
        "t = sol.t\n",
        "y = sol.y[0]\n",
        "\n",
        "plt.plot(t, y, label = 'y(t)', color = 'green')\n",
        "plt.legend()\n",
        "#will need for tomorrows lab "
      ],
      "metadata": {
        "id": "XyMiHriCyowY"
      },
      "execution_count": null,
      "outputs": []
    },
    {
      "cell_type": "code",
      "source": [],
      "metadata": {
        "id": "ZA62Z5Wu1Q0c"
      },
      "execution_count": null,
      "outputs": []
    },
    {
      "cell_type": "markdown",
      "source": [
        "#Tuesday, 11/15"
      ],
      "metadata": {
        "id": "Q7EhmJGfWn67"
      }
    },
    {
      "cell_type": "code",
      "source": [
        "#put on exam!\n",
        "import numpy as np\n",
        "from scipy.integrate import solve_ivp\n",
        "import matplotlib.pyplot as plt\n",
        "\n",
        "def f(t,r):\n",
        "  x = r[0]\n",
        "  v = r[1]\n",
        "  dxdt = v\n",
        "  dvdt = -v - x\n",
        "  return dxdt, dvdt\n",
        "\n",
        "y0 = [3,1] #initial conditions\n",
        "\n",
        "sol = solve_ivp(f, t_span=(0,10), y0 = y0, t_eval=np.linspace(0,10,100))\n",
        "t = sol.t\n",
        "y = sol.y[0]\n",
        "\n",
        "plt.plot(t,y)"
      ],
      "metadata": {
        "colab": {
          "base_uri": "https://localhost:8080/",
          "height": 283
        },
        "id": "kls6yt4bWpa7",
        "outputId": "94394885-2be3-4ff8-f765-8f3020253ab2"
      },
      "execution_count": null,
      "outputs": [
        {
          "output_type": "execute_result",
          "data": {
            "text/plain": [
              "[<matplotlib.lines.Line2D at 0x7fd024c07150>]"
            ]
          },
          "metadata": {},
          "execution_count": 56
        },
        {
          "output_type": "display_data",
          "data": {
            "text/plain": [
              "<Figure size 432x288 with 1 Axes>"
            ],
            "image/png": "[encoded data removed]"
          },
          "metadata": {
            "needs_background": "light"
          }
        }
      ]
    },
    {
      "cell_type": "code",
      "source": [
        "x = np.array([ 0., 1., 2., 3., 4., 5., 6., 7., 8., 9., 10.])\n",
        "y = np.array([ 0.07959564, 2.93576248, 3.11609594, 1.31749718, -1.75677014, -1.90673618, 0.08858298, 2.54574154, 2.99372428, 1.8276882, -1.52403515])\n",
        "from scipy import interpolate \n",
        "\n",
        "f = interpolate.interp1d(x, y) #1\n",
        "x0 = f(1.5) #2\n",
        "print(x0)"
      ],
      "metadata": {
        "colab": {
          "base_uri": "https://localhost:8080/"
        },
        "id": "8H7_wbkkYZ-c",
        "outputId": "ad090bbb-9814-4ed8-96e7-7346e41c19a4"
      },
      "execution_count": null,
      "outputs": [
        {
          "output_type": "stream",
          "name": "stdout",
          "text": [
            "3.02592921\n"
          ]
        }
      ]
    },
    {
      "cell_type": "code",
      "source": [
        "#3\n",
        "def chi_squared(a):\n",
        "  def f(x):\n",
        "    return a*np.sin(x)\n",
        "  return np.sum((y - f(x))**2)\n",
        "\n",
        "from scipy.optimize import minimize\n",
        "result = minimize(chi_squared, 1) \n",
        "print(result)\n",
        "best = result.x\n",
        "\n",
        "#or\n",
        "\n",
        "def chi_sqaured(a):\n",
        "  diff = y - a*np.sin(x)\n",
        "  return np.sum(diff**2)\n",
        "\n",
        "plt.scatter(x,y)\n",
        "x_plot = np.linspace(0,10,100)\n",
        "plt.plot(x_plot, best*np.sin(x_plot))"
      ],
      "metadata": {
        "colab": {
          "base_uri": "https://localhost:8080/",
          "height": 462
        },
        "id": "AqZcjVPrakM1",
        "outputId": "d655f41f-0e64-4139-da36-ac1f85f17458"
      },
      "execution_count": null,
      "outputs": [
        {
          "output_type": "stream",
          "name": "stdout",
          "text": [
            "      fun: 3.8764911110600386\n",
            " hess_inv: array([[0.0999714]])\n",
            "      jac: array([-5.96046448e-08])\n",
            "  message: 'Optimization terminated successfully.'\n",
            "     nfev: 6\n",
            "      nit: 2\n",
            "     njev: 3\n",
            "   status: 0\n",
            "  success: True\n",
            "        x: array([2.96708095])\n"
          ]
        },
        {
          "output_type": "execute_result",
          "data": {
            "text/plain": [
              "[<matplotlib.lines.Line2D at 0x7fd023f97ad0>]"
            ]
          },
          "metadata": {},
          "execution_count": 58
        },
        {
          "output_type": "display_data",
          "data": {
            "text/plain": [
              "<Figure size 432x288 with 1 Axes>"
            ],
            "image/png": "[encoded data removed]"
          },
          "metadata": {
            "needs_background": "light"
          }
        }
      ]
    },
    {
      "cell_type": "markdown",
      "source": [
        "#Monte Carlo Methods (rest of the semester)"
      ],
      "metadata": {
        "id": "HYIgnYqffiQc"
      }
    },
    {
      "cell_type": "markdown",
      "source": [
        "Sometimes a system has some randomness and is described by probabilities\n",
        "* an atom has a certain probability to decay\n",
        "* a person has a certain probability to get sick & transmit disease\n",
        "> Sometimes a function is difficult to integrate.  We can use random numbers to sample this function\n"
      ],
      "metadata": {
        "id": "FkkpYfv_fmrg"
      }
    },
    {
      "cell_type": "code",
      "source": [
        "print (np.random.rand(10))\n",
        "plt.hist(np.random.rand(10))"
      ],
      "metadata": {
        "id": "yLuKisZfeHr3"
      },
      "execution_count": null,
      "outputs": []
    },
    {
      "cell_type": "markdown",
      "source": [
        "Random seed\n",
        "> If we input a given number in 'seed', it will give us the same random number every time.\n"
      ],
      "metadata": {
        "id": "_8dVTOnvgXnw"
      }
    },
    {
      "cell_type": "code",
      "source": [
        "np.random.seed(42)\n",
        "print(np.random.rand())"
      ],
      "metadata": {
        "id": "okC8xt8Bf_0v"
      },
      "execution_count": null,
      "outputs": []
    },
    {
      "cell_type": "code",
      "source": [
        "np.random.seed()\n",
        "print(np.random.rand())"
      ],
      "metadata": {
        "id": "xZOl3pl0gtSG"
      },
      "execution_count": null,
      "outputs": []
    },
    {
      "cell_type": "code",
      "source": [
        "np.random.seed()\n",
        "diceroll = np.random.randint(1,7, size=2)"
      ],
      "metadata": {
        "id": "jDNSIYoRgyBU"
      },
      "execution_count": null,
      "outputs": []
    },
    {
      "cell_type": "code",
      "source": [
        "die1 = np.random.randint(1,7,1000000)\n",
        "die2 = np.random.randint(1,7,1000000)\n",
        "dice = die1 + die2\n",
        "#... see discussion notes for rest"
      ],
      "metadata": {
        "id": "__EKzlgOilZN"
      },
      "execution_count": null,
      "outputs": []
    },
    {
      "cell_type": "markdown",
      "source": [
        "#Thursday, 11/17\n",
        "\n"
      ],
      "metadata": {
        "id": "PLHtdWKR59zj"
      }
    },
    {
      "cell_type": "code",
      "source": [
        "#minimizing a function with 2 variables (Lab 8)\n",
        "import numpy as np\n",
        "from scipy.optimize import minimize\n",
        "\n",
        "def f(para):\n",
        "  x = para[0]\n",
        "  y = para[1]\n",
        "  return 100*(y-x**2)**2 + (1-x)**2\n",
        "result = minimize(f, [0,0]) \n",
        "print(result.x)"
      ],
      "metadata": {
        "colab": {
          "base_uri": "https://localhost:8080/"
        },
        "id": "qF5plhA1kgky",
        "outputId": "4e57179c-c962-4706-c573-102dfeb508cb"
      },
      "execution_count": null,
      "outputs": [
        {
          "output_type": "stream",
          "name": "stdout",
          "text": [
            "[0.99999467 0.99998932]\n"
          ]
        }
      ]
    },
    {
      "cell_type": "code",
      "source": [
        "def f(x):\n",
        "  return 5*np.exp(-x) + x - 5\n",
        "\n",
        "#1. How do we find f(x) = 0? --> root_scalar\n",
        "#2. How do we find the minimum of the function? --> minimize\n",
        "#3 and #4 = solv_ivp (for differential equation)\n",
        "#if not differential equation, you'll want to either minimize or root_scalar"
      ],
      "metadata": {
        "id": "8N5C1xgGq4Ly"
      },
      "execution_count": null,
      "outputs": []
    },
    {
      "cell_type": "code",
      "source": [
        "x_arr = np.random.rand(1000)\n",
        "filter = (x_arr < 0.2)\n",
        "print(len(x_arr[filter]))"
      ],
      "metadata": {
        "colab": {
          "base_uri": "https://localhost:8080/"
        },
        "id": "EDgIFDGcsxcV",
        "outputId": "269574bb-70c8-424b-b0af-8c1b57363cbd"
      },
      "execution_count": null,
      "outputs": [
        {
          "output_type": "stream",
          "name": "stdout",
          "text": [
            "209\n"
          ]
        }
      ]
    },
    {
      "cell_type": "code",
      "source": [
        "P = 1 -2**(-1/180)\n",
        "x_arr1 = np.random.rand(1000)\n",
        "filter = x_arr1 < P\n",
        "print(len(x_arr1[filter]))\n",
        "\n",
        "na = 1000\n",
        "for i in range(10):\n",
        "  a_arr = np.random.rand(na)\n",
        "  filter2 = a_arr < P\n",
        "  nb = len(a_arr[filter2])\n",
        "  na = na - nb\n",
        "  print(na)"
      ],
      "metadata": {
        "colab": {
          "base_uri": "https://localhost:8080/"
        },
        "id": "6w_0_r2-tPq5",
        "outputId": "dfe79251-b4c5-4332-8d2f-d9bec20e2f42"
      },
      "execution_count": null,
      "outputs": [
        {
          "output_type": "stream",
          "name": "stdout",
          "text": [
            "9\n",
            "998\n",
            "995\n",
            "991\n",
            "988\n",
            "981\n",
            "981\n",
            "977\n",
            "968\n",
            "966\n",
            "964\n"
          ]
        }
      ]
    },
    {
      "cell_type": "code",
      "source": [
        "nA = 1000\n",
        "cointoss = np.random.rand(nA)\n",
        "filter = (cointoss < P)\n",
        "n_decay = len(cointoss[filter])\n",
        "nA = nA = n_decay\n",
        "print(nA)"
      ],
      "metadata": {
        "colab": {
          "base_uri": "https://localhost:8080/"
        },
        "id": "54GS3lBKweQh",
        "outputId": "49133e4e-da46-4ffd-caff-9781c36da55a"
      },
      "execution_count": null,
      "outputs": [
        {
          "output_type": "stream",
          "name": "stdout",
          "text": [
            "4\n"
          ]
        }
      ]
    },
    {
      "cell_type": "code",
      "source": [
        "import this"
      ],
      "metadata": {
        "id": "nVw8KdU75coe"
      },
      "execution_count": null,
      "outputs": []
    },
    {
      "cell_type": "markdown",
      "source": [
        "#Tuesday, 11/29 (More Monte Carlo)"
      ],
      "metadata": {
        "id": "-a5FFvuXdNpe"
      }
    },
    {
      "cell_type": "code",
      "source": [
        "import numpy as np\n",
        "x = np.random.rand(10**6)\n",
        "y = np.random.rand(10**6)\n",
        "filter = (x**2 + y**2 < 1)\n",
        "count = (len(x[filter]))\n",
        "\n",
        "fraction = count/10**6\n",
        "print(np.pi/4)\n",
        "print(fraction)"
      ],
      "metadata": {
        "id": "VGmvj1b25ekJ",
        "colab": {
          "base_uri": "https://localhost:8080/"
        },
        "outputId": "4a7d6b90-7697-4389-dab2-043e642c26e2"
      },
      "execution_count": null,
      "outputs": [
        {
          "output_type": "stream",
          "name": "stdout",
          "text": [
            "0.7853981633974483\n",
            "0.785165\n"
          ]
        }
      ]
    },
    {
      "cell_type": "code",
      "source": [
        "import matplotlib.pyplot as plt \n",
        "from scipy import integrate \n",
        "\n",
        "def f(x):\n",
        "  return np.sin(1/(x*(2-x)))**2 \n",
        "\n",
        "x_arr = np.linspace(0,2,10000)\n",
        "y_arr = f(x_arr)\n",
        "plt.plot(x_arr, y_arr)\n",
        "\n",
        "integrate = integrate.quad(f,0,2)\n",
        "print('Quad integration = ', integrate)\n",
        "\n",
        "x = np.random.rand(10**6)*2\n",
        "y = np.random.rand(10**6)\n",
        "filter = ( y < np.sin(1/(x*(2-x)))**2 )\n",
        "print('Monte Carlo = ', len(x[filter]))\n",
        "print('The fraction of points =',(len(x[filter])/10**6)*2)\n"
      ],
      "metadata": {
        "colab": {
          "base_uri": "https://localhost:8080/",
          "height": 516
        },
        "id": "qg3ZRszderl1",
        "outputId": "afba8125-d02f-4ac6-d27d-f1948165740b"
      },
      "execution_count": null,
      "outputs": [
        {
          "output_type": "stream",
          "name": "stderr",
          "text": [
            "/usr/local/lib/python3.7/dist-packages/ipykernel_launcher.py:5: RuntimeWarning: divide by zero encountered in true_divide\n",
            "  \"\"\"\n",
            "/usr/local/lib/python3.7/dist-packages/ipykernel_launcher.py:5: RuntimeWarning: invalid value encountered in sin\n",
            "  \"\"\"\n",
            "/usr/local/lib/python3.7/dist-packages/ipykernel_launcher.py:11: IntegrationWarning: The maximum number of subdivisions (50) has been achieved.\n",
            "  If increasing the limit yields no improvement it is advised to analyze \n",
            "  the integrand in order to determine the difficulties.  If the position of a \n",
            "  local difficulty can be determined (singularity, discontinuity) one will \n",
            "  probably gain from splitting up the interval and calling the integrator \n",
            "  on the subranges.  Perhaps a special-purpose integrator should be used.\n",
            "  # This is added back by InteractiveShellApp.init_path()\n"
          ]
        },
        {
          "output_type": "stream",
          "name": "stdout",
          "text": [
            "Quad integration =  (1.4516877509810684, 0.002712378152591421)\n",
            "Monte Carlo =  725397\n",
            "The fraction of points = 1.450794\n"
          ]
        },
        {
          "output_type": "display_data",
          "data": {
            "text/plain": [
              "<Figure size 432x288 with 1 Axes>"
            ],
            "image/png": "[encoded data removed]"
          },
          "metadata": {
            "needs_background": "light"
          }
        }
      ]
    },
    {
      "cell_type": "code",
      "source": [
        "def f(x):\n",
        "  return np.sin(1/(x*(2-x)))**2 \n",
        "\n",
        "x_arr = np.random.rand(10**6)*2\n",
        "y_arr = f(x_arr)\n",
        "\n",
        "average = sum(y_arr)/len(y_arr)\n",
        "print(average)\n",
        "\n",
        "I = 2*average\n",
        "print(I)"
      ],
      "metadata": {
        "colab": {
          "base_uri": "https://localhost:8080/"
        },
        "id": "oOOhY4Hci3tj",
        "outputId": "b1931750-10dc-4d91-d492-2b72174332dc"
      },
      "execution_count": null,
      "outputs": [
        {
          "output_type": "stream",
          "name": "stdout",
          "text": [
            "0.7257656102073825\n",
            "1.451531220414765\n"
          ]
        }
      ]
    },
    {
      "cell_type": "markdown",
      "source": [
        "#Thursday, 12/1"
      ],
      "metadata": {
        "id": "-49yJYrJzBR5"
      }
    },
    {
      "cell_type": "code",
      "source": [
        "import numpy as np \n",
        "import matplotlib.pyplot as plt \n",
        "\n",
        "def f(x):\n",
        "  return 2**(-x) * np.log(2)\n",
        "\n",
        "def F(x):\n",
        "  return 1 - np.exp(-x*np.log(2))\n",
        "\n",
        "x_arr = np.linspace(0,10,1000)\n",
        "y_arr1 = f(x_arr)\n",
        "y_arr2 = F(x_arr)\n",
        "\n",
        "def Finv(y):\n",
        "  return -(np.log(1-y))/(np.log(2))\n",
        "\n",
        "yi = np.random.rand(10**6)\n",
        "xi = Finv(yi)\n",
        "\n",
        "plt.plot(x_arr, y_arr1, label='f(x)')\n",
        "plt.plot(x_arr, y_arr2, label='F(x)')\n",
        "plt.hist(xi, density='true', bins=100)\n",
        "plt.legend()"
      ],
      "metadata": {
        "colab": {
          "base_uri": "https://localhost:8080/",
          "height": 284
        },
        "id": "Bp4bnriWzDMB",
        "outputId": "9cc273e6-2803-4fa5-ab10-c5bec071843b"
      },
      "execution_count": null,
      "outputs": [
        {
          "output_type": "execute_result",
          "data": {
            "text/plain": [
              "<matplotlib.legend.Legend at 0x7fcda331e430>"
            ]
          },
          "metadata": {},
          "execution_count": 6
        },
        {
          "output_type": "display_data",
          "data": {
            "text/plain": [
              "<Figure size 432x288 with 1 Axes>"
            ],
            "image/png": "[encoded data removed]"
          },
          "metadata": {
            "needs_background": "light"
          }
        }
      ]
    },
    {
      "cell_type": "code",
      "source": [
        "def f(x):\n",
        "  return (x**(-1/2)) / (np.exp(x)+1)\n",
        "\n",
        "x = np.random.rand(10**6)\n",
        "y = f(x)\n",
        "mean = np.average(y)\n",
        "print(mean)\n",
        "\n",
        "def p(x):\n",
        "  return 1/(2*np.sqrt(x))\n",
        "\n",
        "f_xi = f(xi)\n",
        "p_xi = p(xi)\n",
        "\n",
        "calc = f_xi / p_xi\n",
        "print(np.average(calc))"
      ],
      "metadata": {
        "colab": {
          "base_uri": "https://localhost:8080/"
        },
        "id": "pb_aI47xz5BD",
        "outputId": "9fa33502-d371-470c-9b05-c1bdc9e042a0"
      },
      "execution_count": null,
      "outputs": [
        {
          "output_type": "stream",
          "name": "stdout",
          "text": [
            "0.8368923759391432\n",
            "0.5162745056232165\n"
          ]
        }
      ]
    },
    {
      "cell_type": "code",
      "source": [],
      "metadata": {
        "id": "oM_1hT2O5j-X"
      },
      "execution_count": null,
      "outputs": []
    }
  ]
}